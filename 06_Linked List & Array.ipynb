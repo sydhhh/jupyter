{
 "cells": [
  {
   "cell_type": "markdown",
   "metadata": {},
   "source": [
    "# <font color='red'>Introduction</font>\n",
    "- 链表的题知识点很少，硬着头皮做就好了\n",
    "    - 链表结构发生变化时 就需要 Dummy Node\n",
    "    - 反转操作最常见，见下面那个模板\n",
    "    - __常见错误__是你如果写了head.next，必须先检测head是否为None！！！\n",
    "        - 数组也一样，要养成习惯会不会越界\n",
    "- 数组的题型非常杂，什么都会有\n",
    "    - 其中Two Pointers专门提出来下节课讲。\n"
   ]
  },
  {
   "cell_type": "markdown",
   "metadata": {},
   "source": [
    "## <font color='red'>Reverse linked list模板记忆方法</font>\n",
    "- swap的思想\n",
    "- 本质就是__同向双指针__\n",
    "    - `prev`\n",
    "    - `curt`\n",
    "- <font color='blue'>每次等号右边的东西在下一行放在等号的左边</font>\n",
    "    - 最开始和最后的都为tmp\n",
    "    - 循环里一共4行，必背\n",
    "\n",
    "\n",
    "\n",
    "```python\n",
    "#----------------------------------\n",
    "# 1. 最基础的，反转整个链表\n",
    "    # 每一次循环就是先把prev->curt变为prev<-curt，然后两个指针都往右移一次\n",
    "    # 链表有几个元素，那么循环做了几次\n",
    "    # 跳出循环的时候curt必为空，prev为当前的头\n",
    "def reverse(head):\n",
    "    prev = None #这个就是Dummy Node，因此return也就是它！\n",
    "    curt = head\n",
    "    while curt:\n",
    "        tmp = curt.next\n",
    "        curt.next = prev\n",
    "        prev = curt\n",
    "        curt = tmp\n",
    "    return prev\n",
    "\n",
    "#----------------------------------\n",
    "# 2. 反转链表里的一个范围： 1 ≤ m ≤ n ≤ length of list\n",
    "    # 1->2->3->4->5->NULL, m = 2 and n = 4, \n",
    "    # return 1->4->3->2->5->NULL\n",
    "    # 需要dummy node记录最开始的位置    \n",
    "def reverseBetween(head, m, n):\n",
    "    # 标准的三行初始化，就是说让dummy记录这个链表的前一个None，然后把head也往前移一次\n",
    "    dummy = ListNode(0)\n",
    "    dummy.next = head\n",
    "    head = dummy\n",
    "    \n",
    "    # 找到要做变化的那个head\n",
    "    for i in xrange(1, m):\n",
    "        head = head.next\n",
    "\n",
    "    # 这个时候head->node_m->...node_n->...\n",
    "    # 清楚起见可以记录一下这俩位置，命名需要见名知意\n",
    "    node_m_minus = head\n",
    "    node_m = head.next\n",
    "\n",
    "    #下面就是1中的步骤变体，记住每次循环做的是改变prev和curt之间的方向\n",
    "    prev = head.next\n",
    "    curt = prev.next\n",
    "\n",
    "    for i in xrange(m,n):\n",
    "        tmp = curt.next\n",
    "        curt.next = prev\n",
    "        prev = curt\n",
    "        curt = tmp\n",
    "    \n",
    "    #做完之后还有两个步骤，把整个链表串起来\n",
    "        #即谁的next=prev\n",
    "        #和谁的next=curt\n",
    "    node_m_minus.next = prev\n",
    "    node_m.next = curt\n",
    "    \n",
    "    return dummy.next\n",
    "#----------------------------------\n",
    "\n",
    "    ```"
   ]
  },
  {
   "cell_type": "markdown",
   "metadata": {},
   "source": [
    "## <font color='red'>Merge Two Sorted Arrays模板记忆方法</font>\n",
    "\n",
    "- 见下面这题的红色标题，懒得复制过来了"
   ]
  },
  {
   "cell_type": "markdown",
   "metadata": {},
   "source": [
    "## Array vs. Linked List\n",
    "- 各有各的好处和坏处"
   ]
  },
  {
   "cell_type": "markdown",
   "metadata": {},
   "source": [
    "# Linked List: 注意return的就是一个head\n",
    "\n",
    "## <font color='red'>容易搞混的</font>\n",
    "```java\n",
    "ListNode node1 = new ListNode(1);\n",
    "ListNode node2 = new ListNode(2);\n",
    "ListNode node3 = new ListNode(3);\n",
    "//node1->node2->node3\n",
    "node1.next = node2;\n",
    "node2.next = node3;\n",
    "\n",
    "//做一下赋值\n",
    "ListNode head = node1;\n",
    "node1 = node2;\n",
    "\n",
    "//这个时候从head开始会怎么样呢？\n",
    "//链表完全没变！！！\n",
    "//node1->node2->node3\n",
    "```\n",
    "\n",
    "- 所谓reference理解为一个整个内存层面的下标：\n",
    "    - 所以当node1 = node2时，只是相当于下标改变了一下，链表本身不会变\n",
    "    - <font color='red'>假设是个普通数组A，node1和node2相当于下标i和j，当i=j时，数组A是不会变的，所以只是这样的赋值不会改变链表。</font>"
   ]
  },
  {
   "cell_type": "markdown",
   "metadata": {},
   "source": [
    "## Dummy Node"
   ]
  },
  {
   "cell_type": "markdown",
   "metadata": {},
   "source": [
    "### <font color='red'>哨兵节点八问八答:</font>\n",
    "- 如何使用 Dummy Node\n",
    "    - <font color='red'>一般记录头在哪，不关心它的value</font>\n",
    "- head = dummy 这句话总是需要么?\n",
    "    - 看习惯\n",
    "- 什么时候使用 Dummy Node?\n",
    "    - <font color='red'>__链表结构发生变化时 就需要 Dummy Node__</font>\n",
    "- Dummy Node 是否需要删除?\n",
    "    - 不需要\n",
    "- 使用 Dummy Node 算面试官会说我耗费了额外空间么? \n",
    "    - O(1)根本不叫额外空间\n",
    "- Dummy Node 非用不可么?\n",
    "    - 不用的话很难看懂\n",
    "- Dummy Node 初始化的值重要么?\n",
    "    - 不需要值，只用到它的next\n",
    "- 链表的问题都需要用到 Dummy Node 么?\n",
    "    - 链表结构变化时才用"
   ]
  },
  {
   "cell_type": "markdown",
   "metadata": {},
   "source": [
    "### ` Reverse Nodes in k-Group`\n",
    "http://www.jiuzhang.com/solutions/reverse-nodes-in-k-group/\n",
    "\n",
    "> 每k个元素进行倒序\n",
    "\n",
    "- 基本上按照模板里面的第二种范围倒序就可以做了\n",
    "    - head->n1->n2->...nk->nk+1...\n",
    "    - =>\n",
    "    - head->nk->nk-1->...n1->nk+1...\n",
    "\n"
   ]
  },
  {
   "cell_type": "markdown",
   "metadata": {},
   "source": [
    "### 其他涉及 Dummy Node 的题\n",
    "http://www.lintcode.com/en/problem/partition-list/\n",
    "\n",
    "http://www.lintcode.com/en/problem/merge-two-sorted-lists/\n",
    "\n",
    "http://www.lintcode.com/en/problem/reverse-linked-list-ii/\n",
    "\n",
    "http://www.lintcode.com/en/problem/swap-two-nodes-in-linked-list/ \n",
    "\n",
    "http://www.lintcode.com/en/problem/reorder-list/ \n",
    "\n",
    "\n",
    "http://www.lintcode.com/en/problem/rotate-list/"
   ]
  },
  {
   "cell_type": "markdown",
   "metadata": {},
   "source": [
    "## 其他链表高频题\n"
   ]
  },
  {
   "cell_type": "markdown",
   "metadata": {},
   "source": [
    "###  `Copy List with Random Pointer`\n",
    "http://www.jiuzhang.com/solutions/copy-list-with-random-pointer/\n",
    "\n",
    "- 超高频题，如果预先没看过的话根本不知道怎么做\n",
    "- 两种方法\n",
    "    - hashMap （像Clone Graph一样做）\n",
    "        - key:old\n",
    "        - value:new\n",
    "    - 有一种很tricky的做法，就是把新的节点插到旧的后面，double一下原链表，分为3步（这个不叫extra space，而是O(1)，因为用的都是必要的空间）\n",
    "        - 1.copyNext\n",
    "        - 2.copyRandom\n",
    "        - 3.splitList"
   ]
  },
  {
   "cell_type": "markdown",
   "metadata": {},
   "source": [
    "### `Linked List Cycle`\n",
    "http://www.jiuzhang.com/solutions/linked-list-cycle/\n",
    "\n",
    "> 判断链表是否存在环，有的问题还会问环入口在哪，还有问你链表在哪里分叉\n",
    "\n",
    "- 跟上题一样，没做过肯定不会\n",
    "    - __快慢指针__\n",
    "\n",
    "```python\n",
    "#--------------------------------------- \n",
    "#1. 是否有环\n",
    "def hasCycle(self, head):\n",
    "    if head is None:\n",
    "        return False\n",
    "    slow = head\n",
    "    fast = head.next\n",
    "\n",
    "    while fast != slow:\n",
    "        if fast is None or fast.next is None: #这句话很重要，因为下面要写fast.next.next，必须得检查这个\n",
    "            return False\n",
    "        fast = fast.next.next\n",
    "        slow= slow.next\n",
    "    return True\n",
    "    \n",
    "#--------------------------------------- \n",
    "#2. 环入口在哪： Linked List Cycle II\n",
    "def detectCycle(self, head):\n",
    "    if head is None:\n",
    "        return None\n",
    "    slow = head\n",
    "    fast = head.next\n",
    "\n",
    "    while fast != slow:\n",
    "        if fast is None or fast.next is None:\n",
    "            return None\n",
    "        fast = fast.next.next\n",
    "        slow= slow.next\n",
    "#这上面和1中一样\n",
    "    #然后再从head开始，让它和刚刚得到的快慢相遇的点都依次前进一次\n",
    "    # head == slow.next之后返回head就可以了\n",
    "    while head != slow.next:\n",
    "        head = head.next\n",
    "        slow = slow.next\n",
    "\n",
    "    return head\n",
    "#--------------------------------------- \n",
    "#3. 俩链表分叉点：Intersection of Two Linked Lists\n",
    "    #先从一个点走到底，然后拉回到这个点\n",
    "    # 这样就形成一个环了，找的就是环入口\n",
    "        ```"
   ]
  },
  {
   "cell_type": "markdown",
   "metadata": {},
   "source": [
    "### `Sort List`\n",
    "http://www.jiuzhang.com/solutions/sort-list/\n",
    "\n",
    "> 一般说到排序，就是指数组上的排序，但这里是链表上的排序，考基本功\n",
    "\n",
    "- 问：哪些排序算法时间复杂度是 O(nlogn) 的?\n",
    "    - 基于比较的排序，最优的时间复杂度是O(nlogn)\n",
    "        - quick, merge, heap\n",
    "    - 有些排序属于counting sort，复杂度可以更低\n",
    "- 问：哪些排序算法空间复杂度是 O(1) 的\n",
    "    - quick, heap(不用priority queue)\n",
    "    - merge 是O(n)\n",
    "    \n",
    "\n",
    "- 暂时先跳过，以后有机会再写"
   ]
  },
  {
   "cell_type": "markdown",
   "metadata": {},
   "source": [
    "### `Insert into a Cyclic Sorted List`\n",
    "> 一个环状排好序的链表里面插入新的值\n",
    "\n",
    "- 我的做法是先循环一遍这个链表找一下最大值和最小值\n",
    "    - 退出循环的时候prev和curt就是最大值和最小值\n",
    "```python\n",
    "#---------------------------\n",
    "prev = node\n",
    "curt = node.next\n",
    "while prev.val <= curt.val:\n",
    "    prev = prev.next\n",
    "    curt = curt.next\n",
    "#---------------------------\n",
    "```\n",
    "\n",
    "    - 但是如果整个链表都是一样的值，就死循环了：\n",
    "    - 所以应该这样做：\n",
    "```python\n",
    "#---------------------------\n",
    "start = node #先记录一下开始的位置\n",
    "prev = node\n",
    "curt = node.next\n",
    "while prev.val <= curt.val and curt!=start: #回到开始的位置就跳出循环\n",
    "    prev = prev.next\n",
    "    curt = curt.next\n",
    "#---------------------------\n",
    "    ```"
   ]
  },
  {
   "cell_type": "markdown",
   "metadata": {},
   "source": [
    "# Array"
   ]
  },
  {
   "cell_type": "markdown",
   "metadata": {},
   "source": [
    "## Sorted Array"
   ]
  },
  {
   "cell_type": "markdown",
   "metadata": {},
   "source": [
    "###  <font color='red'>Merge Two Sorted Arrays</font>\n",
    "http://www.jiuzhang.com/solutions/merge-two-sorted-arrays/\n",
    "\n",
    "- 这不就是Merge Sort的一步么\n",
    "\n",
    "```python\n",
    "def mergeSortedArray(A, B):\n",
    "    result = []\n",
    "    i,j= 0,0\n",
    "\n",
    "    while (i < len(A) and j < len(B)):\n",
    "        if A[i] < B[j]:\n",
    "            result.append(A[i])\n",
    "            i+=1\n",
    "        else:\n",
    "            result.append(B[j])\n",
    "            j+=1\n",
    "#这个时候我们不知道A和B哪个走到头了，但是根本不用if/else，直接两个都做一下\n",
    "    while i < len(A):\n",
    "        result.append(A[i])\n",
    "        i+=1\n",
    "    while j <len(B):\n",
    "        result.append(B[j])\n",
    "        j+=1\n",
    "        ```"
   ]
  },
  {
   "cell_type": "markdown",
   "metadata": {},
   "source": [
    "- 这个本身不难，但是会有一些变体\n",
    "    - `Merge Sorted Array`\n",
    "    > A = [1, 2, 3, empty, empty], B = [4, 5]\n",
    "    > 小数组归并到大数组（不是归并成新数组）\n",
    "    \n",
    "        - 不能直接像上面这样做的原因是会涉及到数组整体移动，非常慢\n",
    "        - 这个时候换个思路，反过来想，从后往前，大的先填到empty\n",
    "        \n",
    "    - `Intersection of two arrays`\n",
    "    > 两数组的交\n",
    "    \n",
    "        - 可以用HashSet来做\n",
    "            - O(m+n)的时间复杂度\n",
    "            - O(min(m,n))的空间复杂度\n",
    "        - 也可以先排序，然后Merge一下，如果相等那就可以输出\n",
    "            - O(mlogm+nlogn)\n",
    "            - O(1)\n",
    "            \n",
    "    - <font color='red'>Merge Two Sorted Lists</font>\n",
    "    > 如果是链表而不是数组呢？\n",
    "        \n",
    "        - 主要的思想在于我们不需要额外创建空间，只需要按顺序把两个链表打碎，然后串联起来！\n",
    " "
   ]
  },
  {
   "cell_type": "code",
   "execution_count": 1,
   "metadata": {
    "code_folding": [
     0
    ],
    "collapsed": true
   },
   "outputs": [],
   "source": [
    "def mergeTwoLists(self, l1, l2):\n",
    "    dummy = ListNode(0)\n",
    "    head = dummy\n",
    "\n",
    "    while l1 and l2:\n",
    "        if l1.val < l2.val:\n",
    "            head.next = l1 #并不是赋值，而是把head插入其中\n",
    "            l1 = l1.next\n",
    "        else:\n",
    "            head.next = l2\n",
    "            l2 = l2.next\n",
    "        head = head.next\n",
    "\n",
    "    if l1:\n",
    "        head.next = l1 #最后的时候也不是赋值，直接接上去就好啦\n",
    "    if l2:\n",
    "        head.next = l2\n",
    "\n",
    "    return dummy.next        "
   ]
  },
  {
   "cell_type": "markdown",
   "metadata": {},
   "source": [
    "### <font color='red'>Median of Two Sorted Arrays</font>\n",
    "http://www.jiuzhang.com/solutions/median-of-two-sorted-arrays/\n",
    "\n",
    "- 一个数组的中位数就用Quick Select来做，详见下一个Note\n",
    "    - 这题是已经排好序的俩数组，而一个数组的情况下肯定是未排序的\n",
    "\n",
    "- 这个题最简单的方法就是和上面`Merge Two Sorted Arrays`这样，做总长度除以2次的循环就解决了\n",
    "    - 但是不够好，我们想要log的复杂度，这个方法的核心思想和Quick Select很像，我们主要写一个“在两个数组中找第k小的元素”的方程\n",
    "    - 最重要的一个依据：如果要找俩数组A和B的第k小元素，<font color='red'>那么一定不在A和B之一的前$k/2$个数</font>\n",
    "        - 那么怎么确定是A还是B呢？应该是偏小的那个数组扔掉前$k/2$个数。（这样想，如果A很小，B第二个数就是要找的中位数，如果缩减B的话可能把答案也扔了）\n",
    "        - 偏小是指比较两者各自的第$k/2$小那个数的大小\n",
    "        - 因为扔掉了那么多数，所以$k$就变成了$\\boxed{k - k/2}$，注意不是$k/2$\n",
    "    - 有很多麻烦的边界条件：\n",
    "        0. 上面说的都是第$k$小，和数组下标有$1$的差\n",
    "        1. 怎么表示扔掉：可以记录数组的起始位置（但我不喜欢，就用Python的slice）\n",
    "        2. 找各自$k/2$小那个数很可能出现越界，这个时候我们可以想象成该数组后面跟着无限个无穷大就好了，这样一加不会对结果造成影响\n",
    "        3. 如果哪个数组已经被扔完了，即Java中算出来新的起始位置比本身长度大（Python的话如果slice之后的其实位置比原长度还大会得到一个空list，很方便），那么直接return另外一个数组的当前第$k$小"
   ]
  },
  {
   "cell_type": "markdown",
   "metadata": {},
   "source": [
    "```python\n",
    "def findKth(A, B, k):\n",
    "    if len(A) == 0: #如果该数组为空，那么表示越界，该数组已经被扔完\n",
    "        return B[k-1]\n",
    "    if len(B) == 0:\n",
    "        return A[k-1]\n",
    "    if k == 1:      #k每次相当于除以2，递归的出口肯定是1（每次做k-k/2是变不成0的）\n",
    "        return min(A[0], B[0])\n",
    "    a = A[k/2-1] if k/2-1 <= len(A) else sys.maxint\n",
    "    b = B[k/2-1] if k/2-1 <= len(B) else sys.maxint\n",
    "\n",
    "    if a < b:\n",
    "        return findKth(A[k/2:], B, k - k/2)\n",
    "    else:\n",
    "        return findKth(A, B[k/2:], k - k/2)\n",
    "            ```"
   ]
  },
  {
   "cell_type": "markdown",
   "metadata": {},
   "source": [
    "## Subarray\n",
    "- 这种题有很多可以用到PrefixSum这一技巧来简化代码：\n",
    "\n",
    "    - 令 $PrefixSum[i] = A[0] + A[1] + ... A[i - 1], PrefixSum[0] = 0$\n",
    "\n",
    "    - 易知构造 PrefixSum 耗费 O(n) 时间和 O(n) 空间 \n",
    "\n",
    "    - 如需计算子数组从下标i到下标j之间的所有数之和 \n",
    "\n",
    "        - 则有 $Sum(i\\space to\\space j) = PrefixSum[j + 1] - PrefixSum[i]$\n",
    "        \n",
    "\n",
    "- 例1：当然一般不用构造这个数组，只要一个数 \n",
    "\n",
    "- 例2：或者还可以存入hash表方便查询：`{prefixSum[i+1]:i}`\n",
    "    - 初始化为{0:-1}\n",
    "    - 为什么看起来这么奇怪？因为我们遍历数组是第一个元素时i为0，实际代表了PrefixSum[1]\n",
    "        - 这样的话这个hash表就变成`{0:-1, PrefixSum[1]:0, ...}`\n",
    "        \n",
    "- 例3：如果真的需要这个数组，可以用tuple来表示PrefixSum, 即(i, prefixSum[i+1]), 初始化为(-1,0)"
   ]
  },
  {
   "cell_type": "markdown",
   "metadata": {},
   "source": [
    "###  `Maximum Subarray`\n",
    "http://www.jiuzhang.com/solutions/maximum-subarray/\n",
    "\n",
    "```python\n",
    "def maxSubArray(nums):\n",
    "    maxSub = -sys.maxint\n",
    "    minPrefixSum = 0   #注意这边初始值也是0，不是sys.maxint\n",
    "    prefixSum = 0\n",
    "\n",
    "    for i in xrange(len(nums)):\n",
    "        prefixSum += nums[i] #虽然i开始为0，这个前缀和应该是prefixSum[1]\n",
    "        maxSub = max(maxSub, prefixSum - minPrefixSum) #第一个循环maxSub就是第一个数，后面循环表示到“当前位置最大的和”\n",
    "        minPrefixSum = min(minPrefixSum, prefixSum) #更新minPrefixSum，注意这一行不能和上一行相反，不然就漏掉第一个元素了\n",
    "    return maxSub\n",
    "        ```"
   ]
  },
  {
   "cell_type": "markdown",
   "metadata": {},
   "source": [
    "### ` Subarray Sum`\n",
    "http://www.jiuzhang.com/solutions/subarray-sum/\n",
    "\n",
    "- 就是碰到两个前缀和一样时return，用Hash表存储prefixSum和对应的i\n",
    "\n",
    "```python\n",
    "def subarraySum(nums):\n",
    "    result = []\n",
    "    prefixSum = 0\n",
    "    prefixSumHash = {0:-1}\n",
    "\n",
    "    for i in xrange(len(nums)):\n",
    "        prefixSum += nums[i]\n",
    "        if prefixSum in prefixSumHash: #如果找到一样的前缀和，就return两个位置\n",
    "            result.append(prefixSumHash[prefixSum] + 1)\n",
    "            result.append(i)\n",
    "            return result\n",
    "        prefixSumHash[prefixSum] = i\n",
    "\n",
    "    return result\n",
    "        ```"
   ]
  },
  {
   "cell_type": "markdown",
   "metadata": {},
   "source": [
    "###  `Subarray Sum Closet`\n",
    "http://www.jiuzhang.com/solutions/subarray-sum-closest/\n",
    "\n",
    "- 上一题是找俩前缀和等于0，这一题是最接近于0，所以Hash表就不行了\n",
    "    - 只能排序\n",
    "\n",
    "\n",
    "- 注意构造prefixSum是$O(n)$，但是如果你要找到所有区间，则为$O(n^2)$\n",
    "    - 但是我们不需要找所有区间，我们只需要对prefixSum进行排序就好了，然后找两两之差最小就好了$O(nlogn)$"
   ]
  },
  {
   "cell_type": "markdown",
   "metadata": {},
   "source": [
    "```python\n",
    "def subarraySumClosest(nums):\n",
    "    if len(nums) == 1:\n",
    "        return [0,0]\n",
    "\n",
    "    s = []\n",
    "    s.append((-1,0))\n",
    "    sum = 0\n",
    "    for x in xrange(len(nums)):\n",
    "        sum += nums[x]\n",
    "        s.append((x, sum))\n",
    "\n",
    "    s = sorted(s, key = lambda tup:tup[1])\n",
    "\n",
    "    diff = [(abs(s[i][1] - s[i+1][1]),s[i][0], s[i+1][0]) for i in xrange(len(nums))]\n",
    "\n",
    "    diff = sorted(diff, key = lambda diff:diff[0])\n",
    "\n",
    "    if diff[0][1] < diff[0][2]:\n",
    "        return [diff[0][1]+1, diff[0][2]]\n",
    "    else:\n",
    "        return [diff[0][2]+1, diff[0][1]]\n",
    "            ```"
   ]
  },
  {
   "cell_type": "code",
   "execution_count": null,
   "metadata": {
    "collapsed": true
   },
   "outputs": [],
   "source": []
  }
 ],
 "metadata": {
  "kernelspec": {
   "display_name": "Python [default]",
   "language": "python",
   "name": "python2"
  },
  "language_info": {
   "codemirror_mode": {
    "name": "ipython",
    "version": 2
   },
   "file_extension": ".py",
   "mimetype": "text/x-python",
   "name": "python",
   "nbconvert_exporter": "python",
   "pygments_lexer": "ipython2",
   "version": "2.7.13"
  },
  "toc": {
   "colors": {
    "hover_highlight": "#DAA520",
    "running_highlight": "#FF0000",
    "selected_highlight": "#FFD700"
   },
   "moveMenuLeft": true,
   "nav_menu": {
    "height": "425px",
    "width": "252px"
   },
   "navigate_menu": true,
   "number_sections": true,
   "sideBar": true,
   "threshold": 4,
   "toc_cell": false,
   "toc_section_display": "block",
   "toc_window_display": true,
   "widenNotebook": false
  }
 },
 "nbformat": 4,
 "nbformat_minor": 2
}
