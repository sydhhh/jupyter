{
 "cells": [
  {
   "cell_type": "markdown",
   "metadata": {},
   "source": [
    "# <font color='red'>BFS/DFS选择</font>\n",
    "- 什么时候使用DFS?\n",
    "    - 碰到让你找所有方案的题，一定是DFS\n",
    "    - 90%DFS的题，<font color='blue'>__要么是排列，要么是组合__</font>\n",
    "    \n",
    "    \n",
    "- <font color='red'>能够用BFS做的题，一定不要用DFS！</font>\n",
    "    - BFS主要包括图的遍历\n",
    "    - 和最短路径（最短/小解）\n",
    "    \n",
    "    \n",
    "- <font color='blue'>__BFS确实写起来简单，套路很少。DFS的递归不好理解，而非递归更难写__</font>\n",
    "\n",
    "\n",
    "- 还有找所有的最短路径：\n",
    "    - DFS+BFS\n",
    "        - `Word Ladder II`\n",
    "        - `Word Break II`"
   ]
  },
  {
   "cell_type": "markdown",
   "metadata": {},
   "source": [
    "# 题型要么是排列，要么组合（就用递归解决）"
   ]
  },
  {
   "cell_type": "markdown",
   "metadata": {},
   "source": [
    "## <font color='red'>递归三要素</font>\n",
    "- 1.递归的定义：接收什么参数，返回什么值，做了什么事\n",
    "    - 比如在subset那个题里面，这个递归函数要找到所有以subset开头的子集，然后放到result里面\n",
    "    - 一开始是以[]开头（总问题）\n",
    "- 2.递归的分解\n",
    "    - 总问题很大，递归的目的就是拆成小问题\n",
    "- 3.递归的出口：什么时候不往下递归了，找到答案退出\n",
    "    - 拆解到可以直接解决了，就是出口\n",
    "    - 在这个例子里面不是很明显，是自然而然地退出\n",
    "\n",
    "\n",
    "- 思维方式是1,2,3\n",
    "- 写出来是1,3,2"
   ]
  },
  {
   "cell_type": "markdown",
   "metadata": {},
   "source": [
    "## Combination 组合\n",
    "- 问题模型：求出所有满足条件的“组合”。\n",
    "- 判断条件:组合中的元素是顺序无关的。 \n",
    "- 时间复杂度:与 $2^n$ 相关。\n",
    "\n",
    "> 第一节课中讲过的全子集问题 (http://www.lintcode.com/problem/subsets/) 就是典型的组合搜索问题。\n",
    "\n"
   ]
  },
  {
   "cell_type": "markdown",
   "metadata": {},
   "source": [
    "### 例题\n",
    "- 1，2，3\n",
    "- 你会发现它们没有本质的区别！"
   ]
  },
  {
   "cell_type": "markdown",
   "metadata": {},
   "source": [
    "## Permutation 排列\n",
    "- 问题模型：求出所有满足条件的“排列”。\n",
    "- 判断条件:组合中的元素是顺序“相关”的。 \n",
    "- 时间复杂度:与 n! 相关。"
   ]
  },
  {
   "cell_type": "markdown",
   "metadata": {},
   "source": [
    "### 例题\n",
    "- 4，5，6"
   ]
  },
  {
   "cell_type": "markdown",
   "metadata": {},
   "source": [
    "## <font color='red'>通用的DFS复杂度计算公式</font>\n",
    "- `O(答案个数 * 构造每个答案的时间)`\n",
    "    - 答案个数预先不知道，就自己用个字母替代。\n",
    "\n",
    "http://www.jiuzhang.com/qa/2994/\n",
    " "
   ]
  },
  {
   "cell_type": "markdown",
   "metadata": {},
   "source": [
    "## <font color='red'>数组上模板记忆方法</font>"
   ]
  },
  {
   "cell_type": "markdown",
   "metadata": {},
   "source": [
    "### 排列模板（以subset那题为例）\n",
    "\n",
    "- combination(nums, subset, index)\n",
    "    - 一开始为sorted(nums, [], 0)\n",
    "- 主函数中：\n",
    "    - 先把当前结果即subset加入result\n",
    "    - for循环从index到最后一个元素：\n",
    "        - 如果有重复元素，continue即可\n",
    "        - subset加入一个元素\n",
    "        - 递归combination(nums, subset, i+1)\n",
    "            - 如果一个元素可以选多次，那么是i而不是i+1\n",
    "        - 回溯subset.pop()\n",
    "        \n",
    "```python\n",
    "#-------------------------------------\n",
    "result = []\n",
    "combination(sorted(nums), [], 0) #初始时subset为0，就是DFS的root，index也为0\n",
    "\n",
    "def combination(nums, subset, index):\n",
    "    result.append(subset[:]) #deep copy! 把当前subset加入result\n",
    "    for i in xrange(index, len(nums)):\n",
    "        subset.append(nums[i])\n",
    "        combination(nums, subset, i+1) #从下一个index开始，防止重复\n",
    "        subset.pop() #别忘了回溯！\n",
    "#-------------------------------------\n",
    "```\n",
    "\n",
    "\n",
    "\n",
    "- subset默认原nums没有重复元素，如果有重复元素的话，只要在for循环里面加一句话：\n",
    "    - 如果原nums有重复，那么continue就可以了。 \n",
    "    \n",
    "```python\n",
    "        if i is not index and nums[i]==nums[i-1]:\n",
    "            continue\n",
    "            ```"
   ]
  },
  {
   "cell_type": "markdown",
   "metadata": {},
   "source": [
    "### 去重模板\n",
    "1. 以Combination Sum为例：\n",
    "    - 这个时候要去原数组可以有重复元素，相同元素可以取多次，最后输出的结果中没有重复的组（组中可以有相同的元素，可以出现任意次数）\n",
    "        - 一开始排序必须要做：是选代表来去重\n",
    "            - 即[1,2,3], [1,3,2]... 都代表同一个组，所以选[1,2,3]作为代表，然后递归的时候index不再回头即可\n",
    "        - 然后对原数组进行去重：其实等价于`set()`一下。\n",
    "            - <font color='red'>如果不去重，那么最后会有重复的组</font>\n",
    "            - 比如[[2',2'',3], 7], 结果为[[2',2',3], [2', 2'', 3], [2'', 2'', 3]]\n",
    "        - 因为可以选任意次数，所以index那里是i而不是i+1\n",
    "\n",
    "```python\n",
    "#-----------------------------------\n",
    "#其实偷懒的话一个set()就好了，但这种编程的常用技巧还是得背一下\n",
    "# 默认输入的是排好序的\n",
    "\n",
    "def removeDup(nums):\n",
    "    index = 0\n",
    "    for i in xrange(len(nums)):\n",
    "        if nums[i] != nums[index]: #碰到一个不重复的元素就赋值到前面\n",
    "            index += 1\n",
    "            nums[index] = nums[i]\n",
    "    return nums[:index+1] #最后一共有index+1个不重复元素，所以nums后面的几个元素可以扔掉\n",
    "#-----------------------------------\n",
    "\n",
    "```\n",
    "        \n",
    "        \n",
    "        \n",
    "2. 以Combination Sum II为例：（subset II也是一样的思想）\n",
    "    - 这个时候原数组可以有重复元素，同一元素只能选一次，最后输出的结果中没有重复的组，但是组中可以有相同的元素（因为原来的数组中有重复的元素）\n",
    "        - 一开始排序没话说\n",
    "        - 然后不能对原数组去重（set()）, 不然最后结果不对\n",
    "        - 不能选任意次数，所以index是i+1\n",
    "        - 如果原nums有重复，那么需要continue：\n",
    "```python\n",
    "#-----------------------------------\n",
    "        if i is not index and nums[i]==nums[i-1]:\n",
    "            continue\n",
    "#-----------------------------------\n",
    "\n",
    "            ```    \n",
    "            - <font color='red'>如果不去重，会出现重复的组</font>\n",
    "            - [[1', 1'', 7], 8]：最后得到[[1', 7], [1'', 7]]"
   ]
  },
  {
   "cell_type": "markdown",
   "metadata": {},
   "source": [
    "### 组合模板\n",
    "- 其实写起来和排列差不多\n",
    "    - 没有index，这时候可以回头\n",
    "        - 如果该数组没有重复元素，那么可以使用`in`来continue （`Permutation`）\n",
    "        - 不偷懒的话用多用一个visited数组，见`Permutation II`\n",
    "        \n",
    "```python\n",
    "#---------------------------------------\n",
    "#无重复元素（可以偷懒用in，也不需要排序）\n",
    "permutations = []\n",
    "permute(nums, [])\n",
    "\n",
    "def permute(nums, subset):\n",
    "    if len(subset) == len(nums): #到最后一个元素时推出递归\n",
    "        permutations.append(subset[:]) #别忘了deep copy\n",
    "        return\n",
    "\n",
    "    for i in xrange(len(nums)):\n",
    "        if nums[i] in subset: #偷懒用in\n",
    "            continue\n",
    "        subset.append(nums[i])\n",
    "        permute(nums, subset)\n",
    "        subset.pop()\n",
    "#---------------------------------------\n",
    "```\n",
    "\n",
    "- \n",
    "  - \n",
    "      - 如果有重复元素，则必须需要一个额外的`visited`数组来判断是否应该加入当前元素（`Permutation II`）:\n",
    "   \n",
    "   \n",
    "   \n",
    "```python\n",
    "#---------------------------------------\n",
    "# 有重复元素，需要排序\n",
    "permutations = []\n",
    "visited = [0] * len(nums)\n",
    "permute(sorted(nums), [])\n",
    "\n",
    "def permute(self, nums, subset):\n",
    "    if len(subset) == len(nums):\n",
    "        permutations.append(subset[:])\n",
    "        return\n",
    "\n",
    "    for i in xrange(len(nums)):\n",
    "        # 下面这串判断语句是核心，要好好理解\n",
    "        # 如果visited过了，那么continue（上面如果不用in的话也可以这样写，or后面的就不用写了）\n",
    "        # or后面这段是为了去重，和组合combination时有区别：\n",
    "            # 我们要求重复元素本来在前面的，结果中也要在前面，所以多了not visited[i-1]这个条件，表示如果上一个还没走，这一个不能加进去\n",
    "        if visited[i] or (i != 0 and nums[i] == nums[i-1] and not visited[i-1]):\n",
    "            continue\n",
    "\n",
    "        visited[i] = 1 #表示已经visited了\n",
    "        subset.append(nums[i])\n",
    "        permute(nums, subset)\n",
    "        subset.pop()\n",
    "        visited[i] = 0 #回溯时当然要改为0\n",
    "#---------------------------------------\n",
    "        \n",
    "```"
   ]
  },
  {
   "cell_type": "markdown",
   "metadata": {},
   "source": [
    "# Graph\n",
    "## 例题\n",
    "- 7，8"
   ]
  },
  {
   "cell_type": "markdown",
   "metadata": {},
   "source": [
    "# <font color='red'>必背程序</font>\n",
    "- Tree Traversal\n",
    "    \n",
    "    http://www.jiuzhang.com/solutions/binary-tree-preorder-traversal/\n",
    "\n",
    "    http://www.jiuzhang.com/solutions/binary-tree-inorder-traversal/\n",
    "\n",
    "    http://www.jiuzhang.com/solutions/binary-tree-postorder-traversal/ \n",
    "\n",
    "    http://www.jiuzhang.com/solutions/binary-search-tree-iterator/ \n",
    "\n",
    "- Combination\n",
    "\n",
    "    http://www.jiuzhang.com/solutions/subsets/\n",
    "    \n",
    "    - 前面是用递归做的，这题用非递归也比较好做（位运算）\n",
    "        - 暂时跳过\n",
    "\n",
    "- Permutation\n",
    "\n",
    "    http://www.jiuzhang.com/solutions/permutations/\n",
    "    \n",
    "    - 这题用非递归也比较好做\n",
    "        - 暂时跳过"
   ]
  },
  {
   "cell_type": "markdown",
   "metadata": {},
   "source": [
    "# 上课例题"
   ]
  },
  {
   "cell_type": "markdown",
   "metadata": {},
   "source": [
    "## `Combination Sum`\n",
    "\n",
    "http://www.jiuzhang.com/solutions/combination-sum/\n",
    "\n",
    "### 与 Subsets 比较: （见Note1）\n",
    "\n",
    "- Combination Sum 限制了组合中的数之和 \n",
    "    - 加入一个新的参数来限制\n",
    "- Subsets 无重复元素，Combination Sum 有重复元素 \n",
    "    - 需要先去重\n",
    "- <font color='red'>Subsets 一个数只能选一次，Combination Sum 一个数可以选很多次</font>\n",
    "    -  搜索时从 index 开始而不是从 index + 1"
   ]
  },
  {
   "cell_type": "markdown",
   "metadata": {},
   "source": [
    "##  `Combination Sum II`\n",
    "\n",
    "http://www.jiuzhang.com/solutions/combination-sum-ii/\n",
    "\n",
    "> 这个时候原数组有重复元素，但是每个单独的数字只能用一次\n",
    "\n",
    "- 见去重模板的分析"
   ]
  },
  {
   "cell_type": "markdown",
   "metadata": {},
   "source": [
    "## `Palindrome Partitioning`\n",
    "http://www.jiuzhang.com/solutions/palindrome-partitioning/\n",
    "\n",
    "> 回文子字符串\n",
    "\n",
    "- <font color='red'>分割类问题其实就是组合类问题。</font>\n",
    "    - 切割的缝隙不就是要挑选的combination么。\n",
    "    - 即找缝隙的组合"
   ]
  },
  {
   "cell_type": "markdown",
   "metadata": {},
   "source": [
    "##  `Permutation`\n",
    "http://www.jiuzhang.com/solutions/permutations/"
   ]
  },
  {
   "cell_type": "markdown",
   "metadata": {},
   "source": [
    "## `Permutation II`\n",
    "http://www.jiuzhang.com/solutions/permutations-ii/"
   ]
  },
  {
   "cell_type": "markdown",
   "metadata": {},
   "source": [
    "##  `N Queens`\n",
    "http://www.jiuzhang.com/solutions/n-queens/\n",
    "- 暂时跳过。"
   ]
  },
  {
   "cell_type": "markdown",
   "metadata": {},
   "source": [
    "##  `Word Ladder`\n",
    "http://www.jiuzhang.com/solutions/word-ladder/\n",
    "\n",
    "- 最短变换序列问题\n",
    "    - 隐式图搜索\n",
    "    - 单词就算每个点，两个点如果只差一个字母，那么就加一条边\n",
    "        - 这是一个难点\n",
    "\n",
    "\n",
    "\n",
    "- 所以其实是一个BFS的题\n",
    "    - 简单图的最短路径，见上一个Note"
   ]
  },
  {
   "cell_type": "code",
   "execution_count": 2,
   "metadata": {
    "collapsed": true
   },
   "outputs": [],
   "source": [
    "def ladderLength(self, start, end, dict):  \n",
    "    dict.add(end)\n",
    "    if start in dict:\n",
    "        dict.remove(start)\n",
    "    q = [(start,1)] #这是一个tuple，用来记录当前的节点和path长度\n",
    "    while q:\n",
    "        cur = q.pop(0)\n",
    "        curWord = cur[0]\n",
    "        curLength = cur[1]\n",
    "\n",
    "        if curWord == end:\n",
    "            return curLength\n",
    "\n",
    "        for i in xrange(len(curWord)):#记住下面这个循环的方法\n",
    "            for j in 'abcdefghijklmnopqrstuvwxyz':\n",
    "                if j != curWord[i]:\n",
    "                    nextword = curWord[:i] + j + curWord[i+1:]\n",
    "                    if nextword in dict: \n",
    "                        q.append((nextword,curLength+1))\n",
    "                        dict.remove(nextword) #这是一个trick，走过一次就把dict中的那个删掉，所以不需要一个额外的visited数组。"
   ]
  },
  {
   "cell_type": "markdown",
   "metadata": {},
   "source": [
    "## <font color='red'> `Word Ladder II` （典型的DFS+BFS）</font>\n",
    "http://www.jiuzhang.com/solutions/word-ladder-ii/\n",
    "\n",
    "- 找所有的最短路径\n",
    "    - 所以应该是BFS+DFS\n",
    "    - 如果只是按照上一个例题那样写的话，只能找到一个最短路径。（当然上一题没要求记录路径）\n",
    "    \n",
    "- 暴力的方法就是先用BFS找到最短路径是多大 （就是I中的代码）\n",
    "    - 然后用DFS搜索这个深度\n",
    "    - Tricky的地方在于你不能枚举所有这个深度的路径，然后看看终点是不是要的那个，这样的话太慢了\n",
    "        - 我们在DFS的时候不希望走回头路\n",
    "        - 正确的路不是指离起点越来越远，而是离终点越来越近\n",
    "        \n",
    "        \n",
    "\n",
    "- 具体步骤\n",
    "    1. __从终点往所有点做一次BFS，然后把每个点离终点的距离记录在一个数组里__ <font color='red'>（注意上一题是从起点到终点做BFS）</font>\n",
    "    2. 然后才是起点往终点做DFS，其实就是找一个路径可以依次递减到1。（要找里终点越来越近的点，而不是离起点越来越远）\n",
    "        - 1是题目里规定自己到自己长度是1，而不是0"
   ]
  },
  {
   "cell_type": "code",
   "execution_count": 7,
   "metadata": {
    "collapsed": true
   },
   "outputs": [],
   "source": [
    "class Solution:\n",
    "    def findLadders(self, start, end, dict):\n",
    "        self.distance = {}\n",
    "        self.result = []\n",
    "        dict2 = dict.copy() #要复制一下，因为开始BFS之后dict就空了\n",
    "        dict2.add(end)\n",
    "        self.bfs(end, start, dict)  # 找从end开始的所有距离，这个start node只是为了加入集合而已\n",
    "        self.dfs(start, end, dict2, [])\n",
    "        return self.result\n",
    "\n",
    "    def bfs(self, start, end, dict):\n",
    "        dict.add(end)\n",
    "        if start in dict:\n",
    "            dict.remove(start)\n",
    "        self.distance[start] = 1\n",
    "        q = [(start, 1)]\n",
    "        while q:\n",
    "            cur = q.pop(0)\n",
    "            curWord = cur[0]\n",
    "            curLength = cur[1]\n",
    "\n",
    "            for i in xrange(len(curWord)):\n",
    "                for j in 'abcdefghijklmnopqrstuvwxyz':\n",
    "                    if j != curWord[i]:\n",
    "                        nextword = curWord[:i] + j + curWord[i + 1:]\n",
    "                        if nextword in dict:\n",
    "                            self.distance[nextword] = curLength + 1\n",
    "                            q.append((nextword, curLength + 1))\n",
    "                            dict.remove(nextword)\n",
    "\n",
    "    def dfs(self, start, end, dict, subpath):\n",
    "        subpath.append(start)\n",
    "        if start == end:\n",
    "        #或者写成if self.distance[start] == 1:\n",
    "            self.result.append(subpath[:])\n",
    "            return\n",
    "\n",
    "        for i in xrange(len(start)):\n",
    "            for j in 'abcdefghijklmnopqrstuvwxyz': #感觉这个重复的步骤可以优化，就是说把dict中相邻的都存起来\n",
    "                if j != start[i]:\n",
    "                    nextword = start[:i] + j + start[i + 1:]\n",
    "                    if nextword in dict and self.distance[nextword] == self.distance[start] - 1: #保证越来越近\n",
    "                        self.dfs(nextword, end, dict, subpath)\n",
    "                        subpath.pop() #回溯是核心\n",
    "        \n",
    "        "
   ]
  }
 ],
 "metadata": {
  "kernelspec": {
   "display_name": "Python [default]",
   "language": "python",
   "name": "python2"
  },
  "language_info": {
   "codemirror_mode": {
    "name": "ipython",
    "version": 2
   },
   "file_extension": ".py",
   "mimetype": "text/x-python",
   "name": "python",
   "nbconvert_exporter": "python",
   "pygments_lexer": "ipython2",
   "version": "2.7.13"
  },
  "toc": {
   "colors": {
    "hover_highlight": "#DAA520",
    "running_highlight": "#FF0000",
    "selected_highlight": "#FFD700"
   },
   "moveMenuLeft": true,
   "nav_menu": {
    "height": "388px",
    "width": "252px"
   },
   "navigate_menu": true,
   "number_sections": true,
   "sideBar": true,
   "threshold": 4,
   "toc_cell": false,
   "toc_position": {
    "height": "542px",
    "left": "0px",
    "right": "1133.07px",
    "top": "106px",
    "width": "212px"
   },
   "toc_section_display": "block",
   "toc_window_display": true
  }
 },
 "nbformat": 4,
 "nbformat_minor": 2
}
