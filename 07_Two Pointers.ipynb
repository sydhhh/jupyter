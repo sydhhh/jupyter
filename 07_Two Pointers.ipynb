{
 "cells": [
  {
   "cell_type": "markdown",
   "metadata": {},
   "source": [
    "# Introduction\n",
    "- 可以说是数组问题的子问题，但是有很多的题型。\n",
    "- 双指针问题非常非常多，尤其是Two Sum问题和Quick Select\n",
    "\n",
    "## <font color='red'>核心</font>\n",
    "- 对于求 2 个变量如何组合的问题\n",
    "    - 可以循环其中一个变量，然后研究另外一个变量如何变化\n",
    "    - 同理 如果研究3个变量，那么还是循环一个，研究另外两个"
   ]
  },
  {
   "cell_type": "markdown",
   "metadata": {},
   "source": [
    "## <font color='red'>排序元素去重模板记忆方法</font>\n",
    "- 一起DFS的时候用过，这里照抄一下\n",
    "\n",
    "\n",
    "```python\n",
    "#-----------------------------------\n",
    "#其实偷懒的话一个set()就好了\n",
    "# 默认输入的是排好序的\n",
    "def removeDup(nums):\n",
    "    index = 0\n",
    "    for i in xrange(len(nums)):\n",
    "        if nums[i] != nums[index]: #碰到一个不重复的元素就赋值到前面\n",
    "            index += 1\n",
    "            nums[index] = nums[i]\n",
    "    return nums[:index+1] #最后一共有index+1个不重复元素，所以nums后面的几个元素可以扔掉\n",
    "#-----------------------------------\n",
    "\n",
    "```"
   ]
  },
  {
   "cell_type": "markdown",
   "metadata": {},
   "source": [
    "## <font color='red'>Two Sum 模板记忆方法（两大核心方法）</font>\n",
    "\n",
    "- 第一种做法就是HashMap （找任意一组）\n",
    "    - $O(n)$时间和$O(n)$空间\n",
    "    - 注意hash中只会存储最后出现的坐标\n",
    "    - 例1\n",
    "    \n",
    "```python\n",
    "#-------------------------------------\n",
    "# 返回任意一组的坐标\n",
    "def twoSum(nums, target):\n",
    "    hash = {} #hash用于建立数值到下标的映射\n",
    "    for i in xrange(len(nums)):\n",
    "        if target - nums[i] in hash:\n",
    "            return [hash[target - nums[i]], i]\n",
    "        else:\n",
    "            hash[nums[i]] = i #value存的是坐标，注意相同元素出现的话，只会存储最后出现的坐标\n",
    "    return [0, 0] #无解\n",
    "#-------------------------------------\n",
    " ```\n",
    " \n",
    "- 第二种做法是排序+相向双指针 (还是只找到一组)\n",
    "    - $O(nlogn)$时间和$O(1)$空间（如果是返回这俩数的话）\n",
    "        - <font color='grey'>如果还是要返回坐标，还是要$O(n)$的空间用来存排好序的数组（因为返回的是原数组的下标，不能覆盖掉原数组）</font>\n",
    "    - 例3：输入就是排好序的，所以用下面这个模板返回下标也不需要额外空间\n",
    "    \n",
    "```python\n",
    "#-------------------------------------\n",
    "# 例1略微修改题意，返回是是值而不是下标，才可以不用额外空间\n",
    "def twoSum(self, nums, target):\n",
    "    nums = sorted(nums) #先排序\n",
    "    i, j = 0, len(nums)-1 #一头一尾俩指针\n",
    "    while i < j:\n",
    "        if nums[i]+nums[j] > target: #如果和大，那么尾指针前移，反之头指针后移\n",
    "            j -= 1\n",
    "        elif nums[i]+nums[j] == target:\n",
    "            return [nums[i], nums[j]]\n",
    "        else:\n",
    "            i += 1\n",
    "\n",
    "    return None\n",
    "#-------------------------------------\n",
    "        ```"
   ]
  },
  {
   "cell_type": "markdown",
   "metadata": {},
   "source": [
    "### 两种核心方法选择\n",
    "- 见4.1"
   ]
  },
  {
   "cell_type": "markdown",
   "metadata": {},
   "source": [
    "### 找所有，不仅仅任意一组\n",
    "- 例4：找所有不重复的pairs\n",
    "    - 感觉用双指针做简单\n",
    "```python\n",
    "def twoSumCount(nums, target):\n",
    "    count = 0\n",
    "    nums = sorted(nums)\n",
    "    i, j = 0, len(nums)-1\n",
    "    while i < j:\n",
    "        if nums[i] + nums[j] > target:\n",
    "            j -=1\n",
    "        #等于时有变化，每次找到后要移动到第一个不等于当前数的位置\n",
    "        elif nums[i] + nums[j] == target: \n",
    "            count += 1\n",
    "            i += 1\n",
    "            j -= 1\n",
    "            #别忘了这个i<j，不然如果整个数组都是一样的数会死循环\n",
    "            while nums[i] == nums[i-1] and i < j:\n",
    "                i += 1\n",
    "            while nums[j] == nums[j+1] and i < j: #每次while时想想会不会死循环\n",
    "                j-=1\n",
    "        else:\n",
    "            i += 1\n",
    "    return count\n",
    "        ```"
   ]
  },
  {
   "cell_type": "markdown",
   "metadata": {},
   "source": [
    "### 不再是Two Sum，而是 k Sum，同时要所有方案\n",
    "- 例5：3Sum，统计所有的和为 0 的三元组 (Triples)\n",
    "\n",
    "- 两种方法都可以做：\n",
    "    - Hash: $O(n^2)$时间，$O(n)$空间\n",
    "    - 要统计所有pair的话重复很难处理\n",
    "    \n",
    "```python\n",
    "#----------------------------------------\n",
    "for a:\n",
    "    hash[a] = 1 #先把a扔进Hash\n",
    "for b:\n",
    "    for c:\n",
    "        if -b-c in hash: #O(n^2)\n",
    "#----------------------------------------\n",
    "# 或者（空间更差）\n",
    "for a:\n",
    "    for b:\n",
    "        hash[a+b] = 1 #把a+b扔进Hash，这时候空间变成O(n^2)，更差了\n",
    "for c:\n",
    "    if -c in hash:\n",
    "#----------------------------------------\n",
    "\n",
    "```\n"
   ]
  },
  {
   "cell_type": "markdown",
   "metadata": {},
   "source": [
    "- \n",
    "    - <font color='red'>用双指针做更好：</font>\n",
    "    - 先假设$a\\leq b \\leq c$，然后固定a，在a后面的区间做一个Two Sum即可\n",
    "        - 直接调用上一节的那个twoSum方程来找Unique Pairs\n",
    "        \n",
    "```python\n",
    "def threeSum(numbers):\n",
    "    nums = sorted(numbers)\n",
    "    result = []\n",
    "    a = None \n",
    "\n",
    "    for i in xrange(len(nums)-2):\n",
    "        if nums[i] == a: #这一步是为了防止a重复，所以上面让a初始化为非整数即可\n",
    "            continue\n",
    "        a = nums[i]\n",
    "        pairs = twoSum(nums[i+1:], -a)\n",
    "        if len(pairs):\n",
    "            for pair in pairs:\n",
    "                result.append([a, pair[0], pair[1]])\n",
    "    return result\n",
    "```"
   ]
  },
  {
   "cell_type": "markdown",
   "metadata": {},
   "source": [
    "### 套着马甲，根本不觉得是Two Sum\n",
    "- 例6：`Triangle Count`\n",
    "\n",
    "- 先对数组排序，假设 $a+b>c$\n",
    "    - 循环所有$c$\n",
    "        - $a$和$b$就是俩指针，如果找到一组$a+b>c$，那么$a$后面到$b$位置所有数加上$b$都可以满足，然后$b$左移\n",
    "        - 如果$a+b\\leq c$，然后$a$右移\n",
    "\n",
    "```python\n",
    "def triangleCount(S):\n",
    "    S = sorted(S)\n",
    "    ans = 0\n",
    "    for i in xrange(len(S)): #固定c的位置\n",
    "        a = 0     # 然后初始化a和b\n",
    "        b = i - 1 \n",
    "        while a < b: # 这个条件别忘了！\n",
    "            if S[a] + S[b] > S[i]:\n",
    "                ans += b-a\n",
    "                b -= 1\n",
    "            else:\n",
    "                a += 1\n",
    "    return ans\n",
    "```"
   ]
  },
  {
   "cell_type": "markdown",
   "metadata": {},
   "source": [
    "### Two Sum计数问题\n",
    "- 见4.2"
   ]
  },
  {
   "cell_type": "markdown",
   "metadata": {},
   "source": [
    "### 同向双指针\n",
    "- 上面都是相向双指针，下面这个例子是同向的\n",
    "    - 一起是Two Sum，这里是Two Difference\n",
    "\n",
    "- `Two Sum - difference equals to target`\n",
    "    - http://www.jiuzhang.com/solutions/two-sum-difference-equals-to-target/"
   ]
  },
  {
   "cell_type": "markdown",
   "metadata": {},
   "source": [
    "## <font color='red'>Quick Select 模板记忆方法</font>"
   ]
  },
  {
   "cell_type": "markdown",
   "metadata": {},
   "source": [
    "- 平均时间复杂度是$O(n)$\n",
    "    - 别忘了直接调用这个写好的就可以找中位数了\n",
    "    \n",
    "    \n",
    "\n",
    "- 一头一尾俩指针：\n",
    "    - i从左往右找第一个不应该在左边的\n",
    "    - j从右往左找第一个不应该在右边的\n",
    "    - 交换两个元素，然后两个指针再移动一格\n",
    "    - 注意跳出循环后，i必然在j右边，它俩之间可能相邻，也可能隔了一个数\n",
    "        - 注意i和j很可能越界！\n",
    "        - <font color='red'>如果不越界的话，那么i表示在i左边（不包括i）都满足第一个条件，j的右边（不包括j）都满足第二个条件</font>\n",
    "            - 剩下来的i位置，j位置还有可能的中间一个元素，不确定\n",
    "    - <font color='red'>涉及到$i和j$的比较，统一使用$\\leq$</font>\n",
    "        - 这样的话最后跳出循环后$j和i$会错开，$j$在前，$i$在后，后面递归时`(start, j) 和 (i, end)`就不会有交集啦\n",
    "        - 同时，$j和i$之间可能还有一个数，如果恰好这就是要找的那个值，就可以return了\n",
    "    - <font color='red'>涉及到$nums[i]和pivot$的比较，统一使用$>\\space or \\space <$</font>\n",
    "        - 意思是\n",
    "        - 如果加上等于号的话，容易出现最坏的情况\n",
    "    - <font color='red'>最后的时候整个数组会被分成三个部分</font>\n",
    "        - [start, j]\n",
    "        - [j+1] == [i-1] （或者没有这个部分，即j和i相邻）\n",
    "        - [i, end]\n",
    "        \n",
    "```python\n",
    "#-----------------------------------------\n",
    "def kthLargestElement(k, nums):\n",
    "    return quickSelect(nums, 0, len(nums)-1, k)\n",
    "    \n",
    "def quickSelect(nums, start, end, k):\n",
    "    #这里不需要递归的出口，因为最终都会落到return nums[j+1]上\n",
    "    i, j = start, end\n",
    "    pivot = nums[(i+j)/2]\n",
    "\n",
    "    while i <= j: #统一小于等于\n",
    "        while i <= j and nums[i] > pivot: #和pivot比统一没有等于，找到第一个小于等于pivot的数\n",
    "            i += 1\n",
    "        while i <= j and nums[j] < pivot:\n",
    "            j -= 1\n",
    "\n",
    "        if i <= j:\n",
    "            tmp = nums[i]\n",
    "            nums[i] = nums[j]\n",
    "            nums[j] = tmp\n",
    "            i += 1\n",
    "            j -= 1\n",
    "\n",
    "    #有三种return的情况，看k到底落在[start,j], [i, end], 或是[j+1] == [i-1]上（如果j和i相邻，那么落不到最后一个return）\n",
    "    if start + (k - 1) <= j:\n",
    "        return quickSelect(nums, start, j, k)\n",
    "    if start + (k - 1) >= i:\n",
    "        return quickSelect(nums, i, end, k - (i - start))\n",
    "    return nums[j+1]\n",
    "\n",
    "#-----------------------------------------\n",
    "```"
   ]
  },
  {
   "cell_type": "markdown",
   "metadata": {},
   "source": [
    "### 补充一下Quick Sort模板\n",
    "- 和上面差不多，有几个差别\n",
    "    - 上面是从小到大排序，这里是从大到小排序\n",
    "    - 递归需要出口，start > end\n",
    "    - quickSort的左边和右边都要做\n",
    "        - 但是如果j和i中间还有一个数的话，它本来就在它应该在的顺序上，所以不用动它了\n",
    "\n",
    "```python\n",
    "#-----------------------------------------\n",
    "def sortIntegers(self, nums):\n",
    "   self.quickSort(nums, 0, len(nums)-1)\n",
    "\n",
    "def quickSort(self, nums, start, end):\n",
    "    if start > end: #递归出口\n",
    "        return\n",
    "\n",
    "    i, j = start, end\n",
    "    pivot = nums[(i+j)/2]\n",
    "\n",
    "    while i <= j:\n",
    "        while i <= j and nums[i] < pivot:\n",
    "            i += 1\n",
    "        while i <= j and nums[j] > pivot:\n",
    "            j -= 1\n",
    "\n",
    "        if i <= j:\n",
    "            tmp = nums[i]\n",
    "            nums[i] = nums[j]\n",
    "            nums[j] = tmp\n",
    "            i += 1\n",
    "            j -= 1\n",
    "\n",
    "\n",
    "    self.quickSort(nums, start, j)\n",
    "    self.quickSort(nums, i, end)\n",
    "#-----------------------------------------\n",
    "```"
   ]
  },
  {
   "cell_type": "markdown",
   "metadata": {},
   "source": [
    "# 同向双指针\n",
    "http://www.lintcode.com/problem/window-sum/\n",
    "- 用上个note的前缀和也可以\n",
    "    - 缺点是用了额外空间\n",
    "\n",
    "http://www.lintcode.com/problem/move-zeroes/\n",
    "\n",
    "http://www.lintcode.com/problem/remove-duplicate-numbers-in-array/\n",
    "- 如果用HashSet，就是$O(n)$，很快，但是要用额外空间\n",
    "    - 如果用同向双指针，那么没有额外空间，这时候未必需要那么快\n",
    "    - 我们可以先排序，然后去重"
   ]
  },
  {
   "cell_type": "markdown",
   "metadata": {},
   "source": [
    "# 相向双指针\n",
    "http://www.lintcode.com/problem/valid-palindrome/\n",
    "\n",
    "http://www.lintcode.com/problem/rotate-string/\n",
    "\n",
    "http://www.lintcode.com/en/problem/recover-rotated-sorted-array/"
   ]
  },
  {
   "cell_type": "markdown",
   "metadata": {},
   "source": [
    "# Two Sum\n",
    "- 它有太多太多的变形了\n",
    "\n",
    "## <font color='red'>哈希表(HashMap) vs 两根指针(Two Poiters）</font>\n",
    "- 只能使用 HashMap:\n",
    "    - 因为使用两根指针的前提是维护一个有序数组\n",
    "        - 而你每次要加元素进来，如果还要维持有序性的话，得使用TreeMap，所以只能不考虑双指针法了\n",
    "    - 例2：__我们在hash的value中存的是出现的次数而不是第几次出现__\n",
    "\n",
    "- 使用 Two Pointers 会更好:\n",
    "    - 输入是有序的，那么时间复杂度就是$O(n)$了，同时是$O(1)$的空间复杂度，比Hash更好\n",
    "        - 前面说复杂度$O(nlogn)$其实是$O(nlogn)$（排序） + $O(n)$（双指针），如果不用排序那就变成$O(n)$了。\n",
    "    - 例3\n",
    "\n"
   ]
  },
  {
   "cell_type": "markdown",
   "metadata": {},
   "source": [
    "## <font color='red'>Two Sum 计数问题</font>\n",
    "- 统计所有和 <= target 的配对数 （简单），和`Triangle Count`很像，但是更简单了\n",
    "\n",
    "```python\n",
    "#------------------------------------------------\n",
    "# 例7\n",
    "def twoSum5(nums, target):\n",
    "    nums = sorted(nums)\n",
    "    i, j = 0, len(nums)-1\n",
    "    ans = 0\n",
    "\n",
    "    while i < j:\n",
    "        if nums[i] + nums[j] <= target: #如果满足条件\n",
    "            ans += j - i\n",
    "            i += 1 #左指针右移\n",
    "        else:\n",
    "            j -= 1\n",
    "\n",
    "    return ans\n",
    "#------------------------------------------------\n",
    "        ```\n",
    "\n",
    "- 统计所有和 >= target 的配对数 （简单），和上面差不多\n",
    "```python\n",
    "#------------------------------------------------\n",
    "# 例8\n",
    "def twoSum2(nums, target):\n",
    "    nums = sorted(nums)\n",
    "    ans = 0\n",
    "    i,j = 0, len(nums) - 1\n",
    "    while(i < j):\n",
    "        if nums[i] + nums[j] > target:\n",
    "            ans += j -i\n",
    "            j -= 1 #右指针左移\n",
    "        else:\n",
    "            i += 1\n",
    "    return ans\n",
    "#------------------------------------------------\n",
    "        ```\n",
    "\n",
    "- 计算最接近 target 的和：其实基本框架一样\n",
    "```python\n",
    "#------------------------------------------------\n",
    "# 例9\n",
    "def twoSumClosest(nums, target):\n",
    "    nums = sorted(nums)\n",
    "    i, j = 0, len(nums)-1\n",
    "    diff = sys.maxint\n",
    "    while i < j:\n",
    "        sum = nums[i] + nums[j]\n",
    "        if sum < target: \n",
    "            diff = min(target - sum, diff)\n",
    "            i += 1 #为什么小于的时候左指针右移呢？因为只有动左指针才能保证差距更小\n",
    "        elif sum == target:\n",
    "            return 0\n",
    "        else:\n",
    "            diff = min(sum - target, diff)\n",
    "            j -= 1\n",
    "    return diff\n",
    "#------------------------------------------------\n",
    "    ```"
   ]
  },
  {
   "cell_type": "markdown",
   "metadata": {},
   "source": [
    "# Partition\n",
    "- 分为两种Partition：\n",
    "    - 分为两部分：左右\n",
    "    - 分为三部分：左中右"
   ]
  },
  {
   "cell_type": "markdown",
   "metadata": {},
   "source": [
    "## Quick Select\n",
    "- Partition 就是Quick Select的一步"
   ]
  },
  {
   "cell_type": "markdown",
   "metadata": {},
   "source": [
    "## 分成两部分\n",
    "- 例10"
   ]
  },
  {
   "cell_type": "markdown",
   "metadata": {},
   "source": [
    "## 分成三部分\n",
    "- 例11\n",
    "    - 跳过"
   ]
  },
  {
   "cell_type": "markdown",
   "metadata": {},
   "source": [
    "# 面试会考的Sort算法\n",
    "## 彩虹排序\n",
    "- 属于Counting Sort\n",
    "    - $O(nlogk)$\n",
    "    - 而基于比较的排序算法，只能有$O(nlogn)$\n",
    "\n",
    "- 例12\n",
    "    - 跳过"
   ]
  },
  {
   "cell_type": "markdown",
   "metadata": {},
   "source": [
    "## Pancake Sort\n",
    "https://en.wikipedia.org/wiki/Pancake_sorting\n",
    "http://www.geeksforgeeks.org/pancake-sorting/\n",
    "## Sleep Sort\n",
    "https://rosettacode.org/wiki/Sorting_algorithms/Sleep_sort\n",
    "## Spaghetti Sort\n",
    "https://en.wikipedia.org/wiki/Spaghetti_sort\n",
    "## Bogo Sort\n",
    "https://en.wikipedia.org/wiki/Bogosort"
   ]
  },
  {
   "cell_type": "markdown",
   "metadata": {},
   "source": [
    "# 例题\n"
   ]
  },
  {
   "cell_type": "markdown",
   "metadata": {},
   "source": [
    "## `Two Sum`\n",
    "http://www.jiuzhang.com/solutions/two-sum/"
   ]
  },
  {
   "cell_type": "markdown",
   "metadata": {},
   "source": [
    "## `Two Sum - Data structure design`\n",
    "http://www.jiuzhang.com/solutions/two-sum-data-structure-design/\n",
    "\n",
    "```python\n",
    "class TwoSum(object):\n",
    "    def __init__(self):\n",
    "        self.hash = {} \n",
    "    def add(self, number):\n",
    "        # Write your code here\n",
    "        if number in self.hash:\n",
    "            self.hash[number] += 1 #value存的是次数而不是下标\n",
    "        else:\n",
    "            self.hash[number] = 1\n",
    "    def find(self, value):\n",
    "        for num1 in self.hash:\n",
    "            num2 = value - num1\n",
    "            if (num1 != num2 and num2 in self.hash) or \\\n",
    "                (num1 == num2 and self.hash[num1]>1): #相等的话得检测是否有两个\n",
    "                return True        \n",
    "        return False\n",
    "                \n",
    "```\n",
    "\n",
    "## `Two Sum - Input array is sorted`\n",
    "http://www.jiuzhang.com/solutions/two-sum-input-array-is-sorted/\n",
    "\n",
    "```python\n",
    "def twoSum(nums, target):\n",
    "    i, j = 0, len(nums)-1\n",
    "    while i < j:\n",
    "        if nums[i]+nums[j] > target:\n",
    "            j -= 1\n",
    "        elif nums[i]+nums[j] == target:\n",
    "            return [i, j]\n",
    "        else:\n",
    "            i += 1\n",
    "    return \n",
    "```"
   ]
  },
  {
   "cell_type": "markdown",
   "metadata": {},
   "source": [
    "## `Two Sum - Unique pairs`\n",
    "http://www.jiuzhang.com/solutions/two-sum-unique-pairs/"
   ]
  },
  {
   "cell_type": "markdown",
   "metadata": {},
   "source": [
    "## ` 3Sum`\n",
    "http://www.jiuzhang.com/solutions/3sum/"
   ]
  },
  {
   "cell_type": "markdown",
   "metadata": {},
   "source": [
    "## `Triangle Count`\n",
    "http://www.jiuzhang.com/solutions/triangle-count/"
   ]
  },
  {
   "cell_type": "markdown",
   "metadata": {},
   "source": [
    "## `Two Sum - Less than or equal to target`\n",
    "http://www.jiuzhang.com/solutions/two-sum-less-than-or-equal-to-target/"
   ]
  },
  {
   "cell_type": "markdown",
   "metadata": {},
   "source": [
    "## `Two Sum - Greater than target`\n",
    "http://www.jiuzhang.com/solutions/two-sum-greater-than-target/"
   ]
  },
  {
   "cell_type": "markdown",
   "metadata": {},
   "source": [
    "## ` Two Sum Closest`\n",
    "http://www.jiuzhang.com/solutions/two-sum-closest/"
   ]
  },
  {
   "cell_type": "markdown",
   "metadata": {},
   "source": [
    "## `Partition Array`\n",
    "http://www.jiuzhang.com/solutions/partition-array/"
   ]
  },
  {
   "cell_type": "markdown",
   "metadata": {},
   "source": [
    "## ` Sort Colors`\n",
    "http://www.jiuzhang.com/solutions/sort-colors/"
   ]
  },
  {
   "cell_type": "markdown",
   "metadata": {},
   "source": [
    "## `Rainbow Sort`\n",
    "http://www.jiuzhang.com/solutions/sort-colors-ii/"
   ]
  },
  {
   "cell_type": "code",
   "execution_count": null,
   "metadata": {
    "collapsed": true
   },
   "outputs": [],
   "source": []
  }
 ],
 "metadata": {
  "kernelspec": {
   "display_name": "Python [default]",
   "language": "python",
   "name": "python2"
  },
  "language_info": {
   "codemirror_mode": {
    "name": "ipython",
    "version": 2
   },
   "file_extension": ".py",
   "mimetype": "text/x-python",
   "name": "python",
   "nbconvert_exporter": "python",
   "pygments_lexer": "ipython2",
   "version": "2.7.13"
  },
  "toc": {
   "colors": {
    "hover_highlight": "#DAA520",
    "running_highlight": "#FF0000",
    "selected_highlight": "#FFD700"
   },
   "moveMenuLeft": true,
   "nav_menu": {
    "height": "512px",
    "width": "252px"
   },
   "navigate_menu": true,
   "number_sections": true,
   "sideBar": true,
   "threshold": 4,
   "toc_cell": false,
   "toc_position": {
    "height": "558px",
    "left": "0px",
    "right": "973.572px",
    "top": "106px",
    "width": "379px"
   },
   "toc_section_display": "block",
   "toc_window_display": true
  }
 },
 "nbformat": 4,
 "nbformat_minor": 2
}
