{
 "cells": [
  {
   "cell_type": "markdown",
   "metadata": {
    "heading_collapsed": true
   },
   "source": [
    "# Introduction"
   ]
  },
  {
   "cell_type": "markdown",
   "metadata": {
    "hidden": true
   },
   "source": [
    "## What is Data Structure?\n",
    "- 可以认为是一个集合，并且提供集合上的若干操作"
   ]
  },
  {
   "cell_type": "markdown",
   "metadata": {
    "hidden": true
   },
   "source": [
    "## 队列 Queue - BFS\n",
    "- 支持操作：O(1) Push / O(1) Pop / O(1) Top\n",
    "- BFS的主要数据结构\n",
    "- 多做做BFS的题就可以了\n",
    "- 队列可以用链表或数组实现\n",
    "    - 链表感觉简单点\n",
    "    - 数组麻烦，需要循环且动态数组"
   ]
  },
  {
   "cell_type": "markdown",
   "metadata": {
    "hidden": true
   },
   "source": [
    "## 栈 Stack - DFS\n",
    "- 支持操作：O(1) Push / O(1) Pop / O(1) Top\n",
    "- 非递归实现DFS的主要数据结构"
   ]
  },
  {
   "cell_type": "markdown",
   "metadata": {
    "heading_collapsed": true
   },
   "source": [
    "# 哈希表 Hash\n",
    "- 支持操作：<font color='red'>O(1) Insert / O(1) Find / O(1) Delete</font>\n",
    "    - 如果key是个变量的话，那么复杂度就不是O(1)了，而是<font color='red'> $O(size\\space of\\space key)$</font>\n",
    "    - 如果你放个整数，那就是4个字节，O(4)就是O(1)\n",
    "\n",
    "\n",
    "- Hash Table / Hash Map / Hash Set 的区别是什么？\n",
    "    - `Hash Map`: 标准的 key-value pair\n",
    "    - `Hash Set`: 只有key，没有value\n",
    "    - `Hash Table`: 是支持 Thread-Safe 线程安全的 key-value pair\n",
    "\n"
   ]
  },
  {
   "cell_type": "markdown",
   "metadata": {
    "hidden": true
   },
   "source": [
    "## Hash Function\n",
    "- 使命：对于任意的key:\n",
    "    - <font color='red'>得到一个固定且无规律的介于0~capacity-1的__\"整数\"__</font>\n",
    "        - 无规律强调的是这个得到的整数能够尽可能的分散开，防止冲突\n",
    "        \n",
    "        \n",
    "- Hash表可以认为一个很大的数组，把仍将来的`key-value pair`的`key`经过`Hash Function`计算之后就得到了这个数组的整数下标，然后就可以把这个`pair`存进去了。\n",
    "    - 理想情况就是key计算得到的整数下标不冲突\n"
   ]
  },
  {
   "cell_type": "markdown",
   "metadata": {
    "hidden": true
   },
   "source": [
    "## 一些著名的Hash算法（用来加密，不会自己实现）\n",
    "- MD5\n",
    "- SHA-1\n",
    "- SHA-2"
   ]
  },
  {
   "cell_type": "markdown",
   "metadata": {
    "hidden": true
   },
   "source": [
    "## 自己写Hash算法举例：以 String 为例子\n",
    "<img src = './pics/hash.png', width = 500>\n",
    "\n",
    "- 从这里就很明显看出，这个时间复杂度就是 $O(size\\space of\\space key)$\n",
    "    - <font color='red'>_也就是说，每次访问Hash表时，都是调用一下这个Hash Function来计算下标在哪_</font>\n",
    "    - <span class=\"girk\">每次都要算一遍这个方程</span>"
   ]
  },
  {
   "cell_type": "markdown",
   "metadata": {
    "hidden": true
   },
   "source": [
    "## Open Hashing vs Closed Hashing\n",
    "- <font color='red'>再好的 hash 函数也会存在冲突(Collision)</font>\n",
    "- 有两种方法:\n",
    "    - `Open Hashing`:\n",
    "        - https://www.cs.usfca.edu/~galles/visualization/OpenHash.html\n",
    "        - 冲突的话，新来的元素用链表的方式插入到现在已有元素的后面\n",
    "        - 查找的时候就for循环一下这个链表\n",
    "        \n",
    "    - `Closed Hashing`:\n",
    "        - https://www.cs.usfca.edu/~galles/visualization/ClosedHash.html\n",
    "        - 冲突的话就往后移动一格，冲突会累积\n",
    "        - 查找还行，就不停往下找知道空，但是删除的时候就很麻烦了，暂不描述了\n",
    "        \n",
    "    - __`Open Hashing`更常用，也更好理解__\n",
    "        - 但是效率可能不太高，如果一个位置的那个链表特别长的话，说复杂度是 O(1) 就说不过去了。\n",
    "        - <font color='red'>这个时候就需要Rehashing</font>\n",
    "        - 一般用了10%（经验值）的空间之后就需要Rehashing了，即扩大hash表的容量，防止那个链表变得太长，这个时候要重新计算Hash Function\n",
    "            - 一般Rehashing就是double一下空间\n",
    "        \n",
    "    - Hash表Rehash是膨胀，但是删除其中元素的时候它是__不会自动收缩的！__\n",
    "        - 如果你觉得不需要添加新元素了，那么你可以把当前膨胀得很大的hash表destroy之后，新建一个"
   ]
  },
  {
   "cell_type": "markdown",
   "metadata": {
    "hidden": true
   },
   "source": [
    "## 例题"
   ]
  },
  {
   "cell_type": "markdown",
   "metadata": {
    "hidden": true
   },
   "source": [
    "### `Rehashing`\n",
    "- 当hash不够大时怎么办？\n",
    "    - http://www.jiuzhang.com/solutions/rehashing/\n",
    "    - 这一题是Hash Set，只存了key没有value，一般是key和value一起存\n",
    "\n",
    "- 和动态数组的扩容不太一样\n",
    "    - 不是简单copy，因为你要重算一下方程，对应的新的位置会改变\n",
    "    - 很慢"
   ]
  },
  {
   "cell_type": "markdown",
   "metadata": {
    "hidden": true
   },
   "source": [
    "### <font color='red'>LRU Cache</font>\n",
    "\n",
    "> Least Recently Used Cache\n",
    "\n",
    "> LRU是最常用的cache淘汰算法\n",
    "\n",
    "> cache可以看成系统层面的Hash表，但是空间大小固定不可变\n",
    "\n",
    "http://www.jiuzhang.com/solutions/lru-cache/\n",
    "\n",
    "- 很直观的想法就是用Queue实现这种淘汰，但是访问之后需要把那个从中间放到最后面，Queue不支持这种操作\n",
    "    - 所以需要用链表，因为还想知道上一个是谁，所以应该是双向链表\n",
    "    - 当然还需要Hash表\n",
    "    - `LinkedHashMap = DoublyLinkedList + HashMap`\n",
    "\n",
    "\n",
    "\n",
    "```java\n",
    "///////////////////////////////////////////////\n",
    "HashMap<key, DoublyListNode> DoublyListNode {\n",
    "    prev, next, key, value;\n",
    "}\n",
    "```\n",
    "\n",
    "- __Newest node append to tail.__\n",
    "- __Eldest node remove from head.__"
   ]
  },
  {
   "cell_type": "markdown",
   "metadata": {},
   "source": [
    "# 堆 Heap：`Max Heap` or `Min Heap`\n",
    "- 一般说堆就是二叉树：\n",
    "    - 同时必须是complete binary tree\n",
    "        - 所以可以很方便地用数组表示，下标很好确定：\n",
    "        - Consider k-th element of the array: (<span class=\"girk\">The root begins from index 1, and index 0 可以用来存储当前有几个元素</span>)\n",
    "            - its left child: 2*k \n",
    "            - its right child: 2*k+1 \n",
    "            - its parent: k/2 \n",
    "        - 数的高度就是log N\n",
    "    - 而且满足堆的性质，如果是最小堆的话，所有的parent比children小\n",
    "        - children之间没有大小关系\n",
    "        - BST才有儿子间的关系\n",
    "\n",
    "- 支持操作：\n",
    "    - O(log N) Add\n",
    "    > 1. Add the element to the bottom level of the heap. （插到最下层最左边可以放的位置）\n",
    "    \n",
    "    > 2. Compare the added element with its parent; if they are in the correct order, stop.\n",
    "    \n",
    "    > 3. If not, swap the element with its parent and return to the previous step. （不断地SiftUp）\n",
    "        \n",
    "        - 很明显，树有多高，最多上移多少次，所以复杂度就是O(log N)\n",
    "        - -------------------\n",
    "    - O(log N) Remove：只能删除最顶上的那个点（其实删除任意节点也可以，但一般不用）\n",
    "    > 1. Replace the root of the heap with the last element on the last level. （把最后一个点扔到最顶上）\n",
    "    \n",
    "    > 2. Compare the new root with its children; if they are in the correct order, stop.\n",
    "    \n",
    "    > 3. If not, swap the element with its __smaller__ child and return to the previous step. ( In max-heap: swap with the larger ) （不断地SiftDown）\n",
    "    \n",
    "        - 很明显，树有多高，最多下移多少次，所以复杂度也是O(log N)\n",
    "        - -----------------------\n",
    "    - O(1) Min or Max\n",
    "        - 就是看一下顶上那个点，不删除\n"
   ]
  },
  {
   "cell_type": "markdown",
   "metadata": {},
   "source": [
    "## PriorityQueue vs Heap\n",
    "\n",
    "- Priority Queue可以用Heap来实现\n",
    "    - 本质上来说PQ可以有很多别的数据结构来实现：\n",
    "        - 比如普通的array，链表，BST等等\n",
    "        - 但是使用Heap的话实现PQ的操作最高效\n",
    "\n",
    "    - 注意java里面没有Heap，但是有Priority Queue这个类\n",
    "    \n",
    "\n",
    "- 什么时候需要用到Priority Queue呢？\n",
    "    - 当你要取Max/Min的时候"
   ]
  },
  {
   "cell_type": "markdown",
   "metadata": {},
   "source": [
    "## 例题"
   ]
  },
  {
   "cell_type": "markdown",
   "metadata": {},
   "source": [
    "### `Ugly Number`\n",
    "\n",
    "http://www.jiuzhang.com/solutions/ugly-number-ii/\n",
    "\n",
    "- 需要一个数据结构，可以同时满足\n",
    "    - 取最小：`Priority Queue`\n",
    "    - 去重：`Hash Set`\n",
    "    \n",
    "- 虽然这题最快的方法是$O(n)$，但是用PQ是$O(nlogn)$\n",
    "\n",
    "- 本题做法：\n",
    "    - 首先有一个set\n",
    "    - 每次取出set中最小的那个，然后把它乘2,3,5之后放入这个set即可\n",
    "    - 那么这俩数据结构怎么结合呢？\n",
    "        - 就是一个数据分别存在两个数据结构里。。。\n",
    "        - 每次加新的数时判断一下有没有重复，然后分别加到俩个数据结构里面"
   ]
  },
  {
   "cell_type": "code",
   "execution_count": 18,
   "metadata": {
    "code_folding": [
     1
    ],
    "collapsed": false
   },
   "outputs": [],
   "source": [
    "import heapq\n",
    "def nthUglyNumber(self, n):\n",
    "    Set = {1}\n",
    "    h = [1]\n",
    "    heapq.heapify(h) #默认是min-heap，如果要做max-heap，那么先把原数据取反，最后输出的时候再取反即可\n",
    "    primes = [2, 3, 5]\n",
    "\n",
    "    for i in xrange(n):\n",
    "        number = heapq.heappop(h)\n",
    "        for j in xrange(3):\n",
    "            newNumber = number * primes[j]\n",
    "            if newNumber not in Set:\n",
    "                Set.add(newNumber)\n",
    "                heapq.heappush(h, newNumber)\n",
    "\n",
    "    return number\n",
    "            "
   ]
  },
  {
   "cell_type": "markdown",
   "metadata": {},
   "source": [
    "### <font color='red'>Top k Largest Number II</font>\n",
    "> 面试必考题型！\n",
    "\n",
    "http://www.jiuzhang.com/solutions/top-k-largest-number-ii/\n",
    "\n",
    "- `I`可以用Quick Select来做，那题不需要这一题这样需要实现添加元素的操作，只需要找Top K\n",
    "    - 直接找第K大的元素，那么这个元素左边就是所有的答案\n",
    "    - 然后对这个子集排个序就好了\n",
    "- `II`可以用Heap做\n",
    "    - 我们可以maintain一个k这么大的集合，每次加上新的元素就踢掉一个元素\n",
    "    - 尽管是Top k Largest，但是得用min heap才可以踢掉最小值\n",
    "        - 不是max heap\n"
   ]
  },
  {
   "cell_type": "markdown",
   "metadata": {},
   "source": [
    "### `K Closest Points`\n",
    "> 我觉得这题考的就是怎么把一个稍复杂的数据结构heapify，其实只要定义一下__cmp__就可以了！\n",
    "\n",
    "- 注意如果距离一样，那么优先比较x坐标\n",
    "\n",
    "- 因为找k最小的，所以我们还是需要max-heap\n",
    "    - 这个时候不能简单的乘上-1了，我们的__cmp__需要倒一下，这样的话才可以得到max heap\n",
    "        - 从小到大排就是`self - other`\n",
    "        - 从大到小排就是`- self + other`\n",
    "    - 那么最后我们怎么再乘上-1呢？其实只要把结果的k个点reverse一下就好了\n",
    "    - 对比普通的整数：我们先乘上-1，再heapify，最后的结果再乘上-1\n",
    "\n",
    "- 还有一种方法可以不用__cmp__, 就是说push一个tuple即可，(key, data)\n",
    "    - 见下一个例题：\n",
    "    - `heapq.heappush(heap, (head.val, head))`"
   ]
  },
  {
   "cell_type": "code",
   "execution_count": 28,
   "metadata": {
    "code_folding": [
     1,
     12
    ],
    "collapsed": true
   },
   "outputs": [],
   "source": [
    "import heapq\n",
    "class Type:\n",
    "    def __init__(self, dist, point):\n",
    "        self.dist = dist\n",
    "        self.point = point\n",
    "    def __cmp__(self, other):\n",
    "        if self.dist != other.dist:\n",
    "            return - self.dist + other.dist \n",
    "        if other.point.x != self.point.x:\n",
    "            return - self.point.x + other.point.x\n",
    "        return - self.point.y + other.point.y\n",
    "        \n",
    "class Solution:\n",
    "\n",
    "    def getDistance(self, a, b):\n",
    "        return  (a.x - b.x) ** 2 + (a.y - b.y) ** 2\n",
    "        \n",
    "    def kClosest(self, points, origin, k):\n",
    "        heap = []\n",
    "        for point in points:\n",
    "            dist = self.getDistance(point, origin)\n",
    "            heapq.heappush(heap, Type(dist, point))\n",
    "            if len(heap) > k:\n",
    "                heapq.heappop(heap)\n",
    "        \n",
    "        result = []\n",
    "        while heap:\n",
    "            result.append(heapq.heappop(heap).point)\n",
    "        \n",
    "        result.reverse()\n",
    "        \n",
    "        return result"
   ]
  },
  {
   "cell_type": "markdown",
   "metadata": {},
   "source": [
    "### <font color='red'>Merge K Sorted Lists</font>\n",
    "http://www.jiuzhang.com/solutions/merge-k-sorted-lists/\n",
    "> <span class=\"girk\">k路归并算法，必须要掌握！！！！</span>\n",
    "\n",
    "- 其实就是外排序的思想，在大数据领域非常重要：\n",
    "    - <font color='red'>外排序（External sorting）是指能够处理极大量数据的排序算法。</font>\n",
    "    - 通常来说，外排序处理的数据不能一次装入内存，只能放在读写较慢的外存储器（通常是硬盘）上。\n",
    "    - 外排序通常采用的是一种“排序-归并”的策略。\n",
    "        - 在排序阶段，先读入能放在内存中的数据量，将其排序输出到一个临时文件，依此进行，将待排序数据组织为多个有序的临时文件。\n",
    "        - 尔后在归并阶段将这些临时文件组合为一个大的有序文件，也即排序结果。\n",
    "\n",
    "\n",
    "\n",
    "- k路归并算法的经典做法就是用堆heap来做：\n",
    "    - 以前做过2路的，就是两个数谁小谁出来，然后指针右移。\n",
    "    - 这个时候就是在k个数里面找最小值：\n",
    "        - 不就是heap么！\n",
    "        - 每次pop一下\n",
    "        \n",
    "        \n",
    "\n",
    "- <span class=\"girk\">本题一共三个方法，都需要掌握!!!</span> （$N$就是$k$个链表里一共多少个数）\n",
    "    1. Heap: \n",
    "        - $O(Nlogk)$\n",
    "    2. Divide&Conquer: \n",
    "        - 每一层合并的总数都是$N$个点，一共$logk$层\n",
    "            - 比如最后一层，左边如果$x$个数，右边就是$N-x$个数，加起来一个$N$个点\n",
    "        - 所以也是$O(Nlogk)$\n",
    "    3. Merge 2 by 2:\n",
    "        - 其实本质上和2没区别，这个是倒三角，2是正三角\n",
    "        - 所以也是$O(Nlogk)$"
   ]
  },
  {
   "cell_type": "code",
   "execution_count": 3,
   "metadata": {
    "code_folding": [
     2
    ],
    "collapsed": true
   },
   "outputs": [],
   "source": [
    "# 1. 直接用Heap，每次从那k个数里面拿出一个最小的，然后把该点的next push进去\n",
    "import heapq\n",
    "def mergeKLists(lists):\n",
    "    heap = []\n",
    "    heapq.heapify(heap)\n",
    "    for head in lists:\n",
    "        if head:\n",
    "            heapq.heappush(heap, (head.val, head)) #push的是一个tuple\n",
    "\n",
    "    dummy = ListNode(0)\n",
    "    head = dummy\n",
    "\n",
    "    while heap:\n",
    "        node = heapq.heappop(heap)[1]\n",
    "        head.next = node\n",
    "        head = node\n",
    "        if head.next:\n",
    "            heapq.heappush(heap, (head.next.val, head.next))\n",
    "\n",
    "    return dummy.next"
   ]
  },
  {
   "cell_type": "code",
   "execution_count": 5,
   "metadata": {
    "code_folding": [
     1,
     4,
     13
    ],
    "collapsed": true
   },
   "outputs": [],
   "source": [
    "# 2. 不用Heap，Divide & Conquer，完全是Merge Sort的思想\n",
    "def mergeKLists(lists):\n",
    "    return mergeHelper(lists, 0, len(lists)-1)\n",
    "\n",
    "def mergeHelper(lists, start, end):\n",
    "    if start == end:\n",
    "        return lists[start]\n",
    "\n",
    "    mid = (start + end) / 2\n",
    "    left = mergeHelper(lists, start, mid)\n",
    "    right = mergeHelper(lists, mid+1, end)\n",
    "    return mergeTwoLists(left, right)\n",
    "\n",
    "def mergeTwoLists(l1, l2): #第6章时写过这个程序\n",
    "    dummy = ListNode(0)\n",
    "    head = dummy\n",
    "\n",
    "    while l1 and l2:\n",
    "        if l1.val < l2.val:#注意一共做了三件事：把head连上、l1右移（即删掉第一个点）、最后head也要右移\n",
    "            head.next = l1\n",
    "            l1 = l1.next\n",
    "        else:\n",
    "            head.next = l2\n",
    "            l2 = l2.next\n",
    "        head = head.next\n",
    "\n",
    "    if l1:\n",
    "        head.next = l1\n",
    "    if l2:\n",
    "        head.next = l2\n",
    "\n",
    "    return dummy.next"
   ]
  },
  {
   "cell_type": "code",
   "execution_count": 17,
   "metadata": {
    "code_folding": [
     2,
     13
    ],
    "collapsed": true
   },
   "outputs": [],
   "source": [
    "# 3. 相邻的两两归并，不用递归了\n",
    "# 写出来最简单\n",
    "def mergeKLists(lists):\n",
    "    while len(lists) != 1:\n",
    "        newLists = []\n",
    "        for i in xrange(0, len(lists) - 1, 2):\n",
    "            mergedLists = mergeTwoLists(lists[i], lists[i+1]) #两两归并\n",
    "            newLists.append(mergedLists) #存入新的lists\n",
    "        if len(lists) % 2:\n",
    "            newLists.append(lists[-1]) #注意，如果原来有奇数个，那么最后一个元素直接加入\n",
    "        lists = newLists[:] #别忘了[:]，deep copy\n",
    "    return lists[0]\n",
    "\n",
    "def mergeTwoLists(l1, l2): #就是第二种方法那个函数，必背\n",
    "    dummy = ListNode(0)\n",
    "    head = dummy\n",
    "\n",
    "    while l1 and l2:\n",
    "        if l1.val < l2.val:\n",
    "            head.next = l1\n",
    "            l1 = l1.next\n",
    "        else:\n",
    "            head.next = l2\n",
    "            l2 = l2.next\n",
    "        head = head.next\n",
    "\n",
    "    if l1:\n",
    "        head.next = l1\n",
    "    if l2:\n",
    "        head.next = l2\n",
    "\n",
    "    return dummy.next"
   ]
  },
  {
   "cell_type": "markdown",
   "metadata": {},
   "source": [
    "## 替代品TreeMap\n",
    "- 又想知道最小值，又想支持修改和删除\n",
    "- 好像本质上是红黑树：自平衡二叉树\n",
    "    - 面试不会考实现\n",
    "\n",
    "https://docs.oracle.com/javase/7/docs/api/java/util/TreeMap.html"
   ]
  },
  {
   "cell_type": "markdown",
   "metadata": {},
   "source": [
    "## <font color='red'>Quick select（死）`vs` heap（活）</font>\n",
    "- 如果找kth largest number:\n",
    "    - QS: $O(n)$，与k无关\n",
    "    - heap: $O(nlogk)$，与k有关\n",
    "- 但是如果找Top k：\n",
    "    - QS就不行了，它只能找一个数，而且比较死板，不能添加新的数进来\n",
    "    - heap可以，就算每次有新的数添加进来，马上就能知道现在Top K是谁\n",
    "        - 注意是min heap"
   ]
  }
 ],
 "metadata": {
  "kernelspec": {
   "display_name": "Python [default]",
   "language": "python",
   "name": "python2"
  },
  "language_info": {
   "codemirror_mode": {
    "name": "ipython",
    "version": 2
   },
   "file_extension": ".py",
   "mimetype": "text/x-python",
   "name": "python",
   "nbconvert_exporter": "python",
   "pygments_lexer": "ipython2",
   "version": "2.7.13"
  },
  "toc": {
   "colors": {
    "hover_highlight": "#DAA520",
    "running_highlight": "#FF0000",
    "selected_highlight": "#FFD700"
   },
   "moveMenuLeft": true,
   "nav_menu": {
    "height": "344px",
    "width": "251px"
   },
   "navigate_menu": true,
   "number_sections": true,
   "sideBar": true,
   "threshold": 4,
   "toc_cell": false,
   "toc_position": {
    "height": "558px",
    "left": "0px",
    "right": "1000.31px",
    "top": "106px",
    "width": "352px"
   },
   "toc_section_display": "block",
   "toc_window_display": true,
   "widenNotebook": false
  }
 },
 "nbformat": 4,
 "nbformat_minor": 2
}
