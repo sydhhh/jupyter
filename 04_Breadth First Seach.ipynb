{
 "cells": [
  {
   "cell_type": "markdown",
   "metadata": {},
   "source": [
    "## <font color='red'>__红色标题就是要记的模板__</font>"
   ]
  },
  {
   "cell_type": "markdown",
   "metadata": {},
   "source": [
    "# <font color='red'>Introduction</font>"
   ]
  },
  {
   "cell_type": "markdown",
   "metadata": {},
   "source": [
    "## 什么时候应该使用BFS?\n",
    "- 图的遍历 Traversal in Graph\n",
    "    - 层级遍历 Level Order Traversal\n",
    "    - 由点及面 Connected Component：找连通块\n",
    "    - 拓扑排序 Topological Sorting\n",
    "    \n",
    "    \n",
    "- 最短路径 Shortest Path in Simple Graph \n",
    "    - 仅限简单图求最短路径\n",
    "        - 即，图中每条边长度都是1，且没有方向\n",
    "        - “棋盘”就是典型的简单图，相当于每个格子连接上下左右四个。\n",
    "    - 不然只能用那些经典算法如Dijkstra、Bellman-Ford这些。"
   ]
  },
  {
   "cell_type": "markdown",
   "metadata": {},
   "source": [
    "## 如果题目问最短路径：\n",
    "- 除了BFS还能有什么算法？\n",
    "    - DFS不对，DFS是找所有情况用的。\n",
    "    - 还可以用动态规划。\n",
    "    \n",
    "    \n",
    "- 最长路径？\n",
    "    - 不可以用BFS。\n",
    "    - 可能可以用动态规划做。"
   ]
  },
  {
   "cell_type": "markdown",
   "metadata": {},
   "source": [
    "## BFS还是DFS？\n",
    "\n",
    "- __能够用 BFS 解决的问题，一定不要用 DFS 去做! __\n",
    "- 因为用 Recursion 实现的 DFS 可能造成 StackOverflow! \n",
    "    - NonRecursion 的 DFS 一来你不会写，二来面试官也看不懂\n",
    " "
   ]
  },
  {
   "cell_type": "markdown",
   "metadata": {},
   "source": [
    "# 二叉树上的宽搜 BFS in Binary Tree"
   ]
  },
  {
   "cell_type": "markdown",
   "metadata": {},
   "source": [
    "## 模板\n",
    "http://www.lintcode.com/problem/binary-tree-level-order-traversal/\n",
    "\n",
    "http://www.jiuzhang.com/solutions/binary-tree-level-order-traversal/\n",
    "\n",
    "- 要用到`Queue`，`Queue`是接口，一般用`LinkedList`实现。\n",
    "\n",
    "```java\n",
    "Queue<TreeNode> queue = new LinkedList<>();\n",
    "```\n",
    "\n",
    "- 标准模板：\n",
    "\n",
    "```java\n",
    "//-----------------------------------------\n",
    "public class Solution {\n",
    "    public ArrayList<ArrayList<Integer>> levelOrder(TreeNode root) {\n",
    "        ArrayList result = new ArrayList();\n",
    "\n",
    "        if (root == null) {\n",
    "            return result;\n",
    "        }\n",
    "\n",
    "        Queue<TreeNode> queue = new LinkedList<TreeNode>();\n",
    "        queue.offer(root);\n",
    "\n",
    "        while (!queue.isEmpty()) {\n",
    "            ArrayList<Integer> level = new ArrayList<Integer>();\n",
    "            int size = queue.size();\n",
    "            for (int i = 0; i < size; i++) {\n",
    "                TreeNode head = queue.poll();\n",
    "                level.add(head.val);\n",
    "                if (head.left != null) {\n",
    "                    queue.offer(head.left);\n",
    "                }\n",
    "                if (head.right != null) {\n",
    "                    queue.offer(head.right);\n",
    "                }\n",
    "            }\n",
    "            result.add(level);\n",
    "        }\n",
    "\n",
    "        return result;\n",
    "    }\n",
    "}\n",
    "//-----------------------------------------\n",
    "\n",
    "```"
   ]
  },
  {
   "cell_type": "markdown",
   "metadata": {},
   "source": [
    "## <font color='red'>宽搜要点 BFS Key Points</font>\n",
    "- 使用队列作为主要的数据结构 `Queue`\n",
    "    - 用栈(Stack)是否可行?\n",
    "        - 确实不行。\n",
    "\n",
    "\n",
    "- 是否需要实现分层?\n",
    "    - 需要分层的算法比不需要分层的算法__多一个循环 __\n",
    "    - 就是下面模板记忆方法的两种情况：\n",
    "        - 第二种稍微麻烦一点。\n",
    "\n",
    "\n",
    "- 要分层时`size=queue.size()`\n",
    "    - 如果直接 for (int i = 0; i < queue.size(); i++) 会怎么样?\n",
    "        - queue一直在变，如果这样写答案就不对了。"
   ]
  },
  {
   "cell_type": "markdown",
   "metadata": {},
   "source": [
    "## <font color='red'>二叉树模板记忆方法</font>\n",
    "\n",
    "- 第一种：<font color='red'>__（核心）__</font>层与层之间不分隔，此时每次循环都只处理一个Node\n",
    "    - Queue中一开始为root\n",
    "    - 当Queue非空：\n",
    "        - 出队curNode=Queue.pop(0)\n",
    "        - 处理curNode的值\n",
    "        - 把curNode的孩子入队：Queue.append(curNode.children)\n",
    "            - 或者说把要BFS的节点入队，因为经常会有一个if限制哪些孩子要BFS\n",
    "        \n",
    "        \n",
    "``` python\n",
    "#----------------------------------------------\n",
    "q = [root] #当前level的所有节点\n",
    "result = []\n",
    "while q: #一次循环为一个节点\n",
    "    head = q.pop(0) #每次出队一个\n",
    "    result.append(head.val) #处理当前节点的值\n",
    "    #把当前节点的孩子入队\n",
    "    if head.left:\n",
    "        q.append(head.left)\n",
    "    if head.right:\n",
    "        q.append(head.right)\n",
    "#----------------------------------------------\n",
    "```        \n",
    "\n",
    "- 第二种：层与层之间分隔，此时每次循环都处理一层（这时就需要两层循环，复杂度一样）\n",
    "    - Queue中一开始为root\n",
    "    - 当Queue非空：\n",
    "        - level=[]\n",
    "        - 计算当前层有几个Node：length = len(Queue)  <font color='purple'>__如果没有计算这个的话，因为Queue一直在出队入队，你不能判断是否进入了下一层__</font>\n",
    "        - 做length次循环：<font color='purple'>__（即处理完当前层）__</font>\n",
    "            - 出队curNode=Queue.pop(0)\n",
    "            - 存储curNode的值到level\n",
    "            - 把curNode的孩子入队：Queue.append(curNode.children)\n",
    "                - 或者说把要BFS的节点入队，因为经常会有一个if限制哪些孩子要BFS\n",
    "        - 把level加到最终的result中\n",
    "\n",
    "\n",
    "\n",
    "``` python\n",
    "#----------------------------------------------\n",
    "q = [root] #当前level的所有节点\n",
    "result = []\n",
    "while q: #一次while为一层\n",
    "    level = [] # 存储当前level的节点值，开头初始化\n",
    "    length = len(q)\n",
    "    for i in xrange(length):#对于该层所有节点\n",
    "        head = q.pop(0) #每次出队一个\n",
    "        level.append(head.val) #处理当前节点的值\n",
    "        #把当前节点的孩子入队\n",
    "        if head.left:\n",
    "            q.append(head.left)\n",
    "        if head.right:\n",
    "            q.append(head.right)\n",
    "    # 把当前结果level存入result中\n",
    "    result.append(level)\n",
    "#----------------------------------------------\n",
    "```\n",
    "\n"
   ]
  },
  {
   "cell_type": "markdown",
   "metadata": {},
   "source": [
    "## （补充个小知识）Biary Tree Serialization\n",
    "- 将“内存”中结构化的数据变成“字符串”的过程\n",
    "    - 序列化:object to string \n",
    "    - 反序列化:string to object"
   ]
  },
  {
   "cell_type": "markdown",
   "metadata": {},
   "source": [
    "### 什么时候需要序列化?\n",
    "1. 将内存中的数据持久化存储时\n",
    "    - 内存中重要的数据不能只是呆在内存里，这样断电就没有了，所需需要用一种方式写入硬盘，在需要的时候，能否再从硬盘中读出来在内存中重新创建\n",
    "2. 网络传输时 \n",
    "    - 机器与机器之间交换数据的时候，不可能互相去读对方的内存。只能讲数据变成字符流数据(字符串)后\n",
    "通过网络传输过去。接受的一方再将字符串解析后到内存中。"
   ]
  },
  {
   "cell_type": "markdown",
   "metadata": {},
   "source": [
    "### 常用的一些序列化手段:\n",
    "- XML （现在用得少）\n",
    "- Json\n",
    "- Thrift (by Facebook)\n",
    "- ProtoBuf (by Google)"
   ]
  },
  {
   "cell_type": "markdown",
   "metadata": {},
   "source": [
    "### 一些序列化的例子:\n",
    "- 比如一个数组，里面都是整数，我们可以简单的序列化为”[1,2,3]”\n",
    "- 一个整数链表，我们可以序列化为，”1->2->3”\n",
    "- 一个哈希表(HashMap)，我们可以序列化为，”{\\”key\\”: \\”value\\”}”\n",
    "\n",
    "\n",
    "- 需要考虑的因素：\n",
    "    - 压缩率\n",
    "    - 可读性"
   ]
  },
  {
   "cell_type": "markdown",
   "metadata": {},
   "source": [
    "### 二叉树如何序列化?\n",
    "- LintCode 采用的是 BFS 的方式对二叉树数据进行序列化，这样的好处是，你可以更为容易的自己画出整棵二叉树。\n",
    "http://www.lintcode.com/en/help/binary-tree-representation/ "
   ]
  },
  {
   "cell_type": "markdown",
   "metadata": {},
   "source": [
    "# 图上的宽搜 BFS in Graph\n",
    "\n",
    "- 图上和宽搜和树上的区别：\n",
    "    - <font color='red'>环！！！</font>\n",
    "- 如果有环的话，同一个节点可能重复进入队列，那就不对了。\n",
    "    - <font color='red'>可以用HashMap来去重。</font>"
   ]
  },
  {
   "cell_type": "markdown",
   "metadata": {},
   "source": [
    "## 基本数据结构来表示图\n",
    "- 最直观就是用邻接矩阵：\n",
    "    - $N^2$\n",
    "    - 但是很可能是稀疏矩阵，浪费空间。\n",
    "    \n",
    "    \n",
    "- Java可以用：\n",
    "```java\n",
    "Map<Integer, Set<Integer>> graph = new HashMap<>();\n",
    "```\n",
    "\n",
    "- Python可以用dict：\n",
    "    - key为当前节点\n",
    "    - value为所有连接的点\n",
    "    - 注意无向图的话构建dict时一条edge当做两条才行\n",
    "    \n",
    "    \n",
    "    \n",
    "- leetcode这样用：\n",
    "\n",
    "```python\n",
    " class UndirectedGraphNode:\n",
    "     def __init__(self, x):\n",
    "         self.label = x\n",
    "         self.neighbors = []\n",
    "         ```"
   ]
  },
  {
   "cell_type": "markdown",
   "metadata": {},
   "source": [
    "## <font color='red'>图上BFS模板记忆方法</font>\n",
    "- Queue的定义和上面一样\n",
    "    - 因为没有root的概念，所以无向图初始化时随便放一个进去，就可以遍历整个图\n",
    "    - 如果是有向图，那么初始化的节点按照题意添加。\n",
    "- visited = set()\n",
    "    - 因为树里面一定从root开始，且不会有重复\n",
    "    - 所以需要一个set来保存visited过的\n",
    "- 每次往Queue里面入队当前节点的neighbors时，需要确认是否在visited里面有过，才可以入队\n",
    "    - 不然的话Queue永远也空不了，死循环了\n",
    "    - 注意，这样做之后保证了每次添加到visited里面的都是unique的，但之所以不改set为list是因为确认是否存在时set要快 \n",
    "    \n",
    "    \n",
    "```python\n",
    "#-------------------------------------------------\n",
    "#不分层\n",
    "q = [anyNode]\n",
    "visited = set()\n",
    "while q:\n",
    "    curNode = q.pop(0)\n",
    "    visited.add(curNode) #具体要做的事情在这一行或是最后一行，小心别重复做\n",
    "    \n",
    "    for node in graph[curNode]: #所有的children\n",
    "        if node in visited: \n",
    "            continue\n",
    "        else:\n",
    "            q.append(node) #注意，这里可能有别的操作\n",
    "#-------------------------------------------------\n",
    "\n",
    "```\n",
    "\n",
    "\n",
    "- 分层就是多一层循环，但是复杂度是一样的\n",
    "\n",
    "    \n",
    "```python\n",
    "#-------------------------------------------------\n",
    "#分层\n",
    "q = [anyNode]\n",
    "visited = set()\n",
    "while q:\n",
    "    level = []\n",
    "    length = len(q)\n",
    "    for i in xrange(length):\n",
    "        curNode = q.pop(0)\n",
    "        level.append(curNode)\n",
    "        visited.add(curNode)\n",
    "    \n",
    "        for node in graph[curNode]: #所有的children\n",
    "            if node in visited:\n",
    "                continue\n",
    "            else:\n",
    "                q.append(node)\n",
    "#-------------------------------------------------\n",
    "\n",
    "```\n"
   ]
  },
  {
   "cell_type": "markdown",
   "metadata": {},
   "source": [
    "# 棋盘（矩阵）上的宽搜 BFS"
   ]
  },
  {
   "cell_type": "markdown",
   "metadata": {},
   "source": [
    "## 矩阵 vs 图\n",
    "- 图 Graph\n",
    "    - N个点，M条边\n",
    "    - M最大是 O(N^2) 的级别 \n",
    "    - 图上BFS时间复杂度 = O(N + 2*M) = O(N + M)\n",
    "        - 说是O(M)问题也不大，因为M一般都比N大 \n",
    "        - 所以最坏情况可能是 O(N^2)\n",
    "        \n",
    "        \n",
    "        \n",
    "- 矩阵 Matrix\n",
    "    - R行C列\n",
    "    - R\\*C个点，R\\*C\\*2 条边(每个点上下左右4条边，每条边被2个点共享)。 \n",
    "    - 矩阵中BFS时间复杂度 = O(R * C)"
   ]
  },
  {
   "cell_type": "markdown",
   "metadata": {},
   "source": [
    "## 常用的Hint\n"
   ]
  },
  {
   "cell_type": "markdown",
   "metadata": {},
   "source": [
    "###  坐标变换数组\n",
    "```java\n",
    "int[] deltaX = {1,0,0,-1};\n",
    "int[] deltaY = {0,1,-1,0};\n",
    "```"
   ]
  },
  {
   "cell_type": "markdown",
   "metadata": {},
   "source": [
    "### inBoundCheck\n",
    "- 即判断在坐标变换后，是否会超出棋盘的位置，为不会越界。\n",
    "\n",
    "```java\n",
    "return coor.x >= 0 && coor.x < n && coor.y >= 0 && coor.y < m;\n",
    "```"
   ]
  },
  {
   "cell_type": "markdown",
   "metadata": {},
   "source": [
    "### <font color='red'>Visited</font>\n",
    "- 在图中我们有一个visited来记录走过的点，但是在棋盘中：\n",
    "    - 走过的直接在grid中修改即可！根本不需要一个visited set\n"
   ]
  },
  {
   "cell_type": "markdown",
   "metadata": {},
   "source": [
    "# 上课例题\n"
   ]
  },
  {
   "cell_type": "markdown",
   "metadata": {},
   "source": [
    "## `Graph Valid `\n",
    "\n",
    "http://www.jiuzhang.com/solutions/graph-valid-tree/\n",
    "\n",
    "\n",
    "- 图的遍历(由点及面)\n",
    "- 条件1:刚好N-1条边\n",
    "    - 如果大于等于N条边，那么一定有环\n",
    "- 条件2:N个点连通 \n",
    "    - 不然就不是1颗树，而是若干树"
   ]
  },
  {
   "cell_type": "markdown",
   "metadata": {},
   "source": [
    "## `Clone Graph`\n",
    "\n",
    "http://www.jiuzhang.com/solutions/clone-graph/\n",
    "\n",
    "- 就是实现一个Deep Copy\n",
    "- 图的遍历(由点及面)\n",
    "\n",
    "\n",
    "\n",
    "- 步骤：\n",
    "    - node -> nodes 先由一个node把当前图遍历一遍（和上一题差不多）\n",
    "    - nodes -> new nodes\n",
    "    - edges -> new edges"
   ]
  },
  {
   "cell_type": "markdown",
   "metadata": {},
   "source": [
    "##  `Search Graph Node`\n",
    "http://www.jiuzhang.com/solutions/search-graph-nodes/\n",
    "\n",
    "- 图的遍历(由点及面) \n",
    "\n",
    "- 既然找最近的，那么当然用BFS\n",
    "    - 简单，不需要分层\n",
    "- 如果要找所有最近的\n",
    "    - 那么需要分层，多写一层循环"
   ]
  },
  {
   "cell_type": "markdown",
   "metadata": {},
   "source": [
    "## <font color='red'>`Topological Sorting` 拓扑排序 </font>\n",
    "http://www.jiuzhang.com/solutions/topological-sorting/\n",
    "\n",
    "- 非常重要！\n",
    "    - 几乎每个公司都有一道拓扑排序的面试题!\n",
    "\n",
    "\n",
    "- 本质是找到一个合理的“顺序”，使前面的点不依赖于后面的点。\n",
    "    - 比如上课的顺序，而课程有前置要求，需要找一个学完所有课的顺序。\n",
    "    - 如果存在循环依赖，那么就找不到这个顺序，即不可以”拓补排序“\n",
    "    - 做法就是非常标准的BFS\n",
    "\n",
    "\n",
    "- 可以用DFS吗？\n",
    "    - 也不能说不行，但很长，没有必要。\n",
    "\n",
    "\n",
    "- <font color='red'>__做法：__</font>\n",
    "    - 首先找统计所有点的indegree\n",
    "    - 把入度为0的放在Queue里面，挑一个作为起点\n",
    "    - 然后对于已访问的点，删掉它，即它指向的点的入度减1\n",
    "        - 如果此时入度为0，那么可以加入Queue\n",
    "    - 然后当Queue空，退出循环后，看一下结果里面的size是否和原size相同\n",
    "        - 如果相同的话说明原图__可以拓扑排序__\n",
    "        - 有循环依赖的话就不可以拓扑排序"
   ]
  },
  {
   "cell_type": "code",
   "execution_count": 6,
   "metadata": {
    "collapsed": true
   },
   "outputs": [],
   "source": [
    "class Solution:\n",
    "    result = []\n",
    "    def topSort(self, graph):\n",
    "        #先计算每个点的入度\n",
    "        indegree = {}\n",
    "        for node in graph:\n",
    "            indegree[node] = 0    \n",
    "        for node in graph:\n",
    "            for neighbor in node.neighbors:\n",
    "                    indegree[neighbor]+=1\n",
    "                    \n",
    "        #把入度为0的全加入queue\n",
    "        q = []\n",
    "        for item in indegree:\n",
    "            if indegree[item] == 0:\n",
    "                q.append(item)        \n",
    "        #模板\n",
    "        while q:\n",
    "            curNode = q.pop(0)\n",
    "            self.result.append(curNode)\n",
    "            for node in curNode.neighbors:\n",
    "                indegree[node]-=1\n",
    "                if indegree[node]==0: #如果这时候入度为0，也入队\n",
    "                    q.append(node)\n",
    "                    #注意不要多下面这一行，不然的话result中的node每次加了两遍\n",
    "                    #self.result.append(node)\n",
    "\n",
    "        #检查是否可以拓扑排序            \n",
    "        if len(self.result) == len(graph):\n",
    "            return self.result\n",
    "        else:\n",
    "            return None\n"
   ]
  },
  {
   "cell_type": "markdown",
   "metadata": {},
   "source": [
    "## ` Number of Islands`\n",
    "\n",
    "http://www.jiuzhang.com/solutions/number-of-islands/\n",
    "\n",
    "- 先两层for循环访问矩阵每个点，每碰到一个1，岛屿数加1，然后执行BFS来把当前的1连通的全标记为0。\n",
    "- BFS:\n",
    "    - 就是普通的BFS，先把当前节点入队，然后标记为0\n",
    "    - 然后它的neighbors就是上下左右四块，如果为1，那么加入Queue\n"
   ]
  },
  {
   "cell_type": "markdown",
   "metadata": {},
   "source": [
    "## `Zombie in Matrix`\n",
    "\n",
    "http://www.jiuzhang.com/solutions/zombie-in-matrix/\n",
    "\n",
    "- 这一题就需要分层了，每一天相当于往下一层\n",
    "- 有多个起点\n",
    "    - 就是说Queue一开始有多个节点，本质是一样的，还是普通的BFS\n",
    "    - 每一次循环就相当于1天\n",
    "    - 注意，不需要保留level变量，因为我们不需要这个，尽管模板里面有"
   ]
  },
  {
   "cell_type": "code",
   "execution_count": 9,
   "metadata": {
    "collapsed": true
   },
   "outputs": [],
   "source": [
    "class Solution:\n",
    "    def zombie(self, grid):\n",
    "        if len(grid) is 0:\n",
    "            return -1\n",
    "        row = len(grid)\n",
    "        col = len(grid[0])\n",
    "        result = -1\n",
    "        \n",
    "        q = []\n",
    "        for i in xrange(row):\n",
    "            for j in xrange(col):\n",
    "                if grid[i][j] == 1:\n",
    "                    q.append((i,j)) #初始化Queue，把所有僵尸加入\n",
    "                    \n",
    "        d = [[0, -1], [0, 1], [-1, 0], [1, 0]]\n",
    "        days = -1\n",
    "        \n",
    "        while q:\n",
    "            days += 1\n",
    "            numZombies = len(q)\n",
    "            for i in xrange(numZombies):\n",
    "                node = q.pop(0)\n",
    "                for k in xrange(4):\n",
    "                    x = node[0] + d[k][0]\n",
    "                    y = node[1] + d[k][1]\n",
    "                    if x>=0 and x<row and y>= 0 and y<col and grid[x][y] == 0:\n",
    "                        grid[x][y] = 1\n",
    "                        q.append((x,y)) #满足条件的话入队新的僵尸\n",
    "                        \n",
    "        for i in xrange(row):\n",
    "            for j in xrange(col):\n",
    "                if grid[i][j] == 0:\n",
    "                    return -1\n",
    "\n",
    "        return days "
   ]
  },
  {
   "cell_type": "markdown",
   "metadata": {},
   "source": [
    "## `Knight Shortest Path`\n",
    "\n",
    "http://www.jiuzhang.com/solutions/knight-shortest-path/\n",
    "\n",
    "- 简单图最短路径\n",
    "    - 直接BFS，走过的地方把grid改为1\n",
    "    - 需要分层来记录步数\n",
    "    - 但是每一层的结果不用记录\n",
    "    \n",
    "- 怎么speed up？\n",
    "    - 对于这种给了起点和终点的BFS，可以进行双向BFS\n",
    "    - 如果碰到对方走过的地方，那么就找到了\n"
   ]
  },
  {
   "cell_type": "markdown",
   "metadata": {},
   "source": [
    "```python\n",
    "class Solution:\n",
    "\n",
    "    def shortestPath(self, grid, source, destination):\n",
    "        row = len(grid)\n",
    "        col = len(grid[0])\n",
    "        d = [(-2, -1), (-2, 1), (-1, 2), (1, 2), (2, 1), (2, -1), (1, -2), (-1, -2)]\n",
    "        \n",
    "        q = [source]\n",
    "        grid[source.x][source.y] = 1\n",
    "        steps = -1\n",
    "             \n",
    "        while q:\n",
    "            steps += 1\n",
    "            length = len(q)\n",
    "            for i in xrange(length):\n",
    "                \n",
    "                node = q.pop(0)\n",
    "                if node.x == destination.x and node.y == destination.y: #不能写成node == destination\n",
    "                    return steps\n",
    "                for k in xrange(8):\n",
    "                    newnode = Point() #实例化一定要写在这里，不然的话这个循环最后一句话传的是reference进去！！！\n",
    "                    newnode.x = node.x + d[k][0]\n",
    "                    newnode.y = node.y + d[k][1]\n",
    "                    if newnode.x>=0 and newnode.x<row and newnode.y>= 0 and newnode.y<col and \n",
    "                            grid[newnode.x][newnode.y] == 0:\n",
    "                        grid[newnode.x][newnode.y] = 1\n",
    "                        q.append(newnode)\n",
    "        return -1\n",
    "```"
   ]
  },
  {
   "cell_type": "markdown",
   "metadata": {},
   "source": [
    "##  `Build Post Office II`\n",
    "\n",
    "http://www.jiuzhang.com/solutions/build-post-office-ii/\n",
    "\n",
    "- 方法1：（最直观）\n",
    "    - 枚举所有空地\n",
    "    - 计算距离和\n",
    "    - 找最小的那个\n",
    "    \n",
    "- 方法2：（Tricky，效率高！）\n",
    "    - 因为空地多，所以反其道而行，从房子出发，计算到空地的距离\n",
    "    - 累加每个房子到空地的和，这时候得到的结果和方法1一样。\n",
    "    - 找最小的那个"
   ]
  }
 ],
 "metadata": {
  "kernelspec": {
   "display_name": "Python [default]",
   "language": "python",
   "name": "python2"
  },
  "language_info": {
   "codemirror_mode": {
    "name": "ipython",
    "version": 2
   },
   "file_extension": ".py",
   "mimetype": "text/x-python",
   "name": "python",
   "nbconvert_exporter": "python",
   "pygments_lexer": "ipython2",
   "version": "2.7.13"
  },
  "toc": {
   "colors": {
    "hover_highlight": "#DAA520",
    "running_highlight": "#FF0000",
    "selected_highlight": "#FFD700"
   },
   "moveMenuLeft": true,
   "nav_menu": {
    "height": "512px",
    "width": "252px"
   },
   "navigate_menu": true,
   "number_sections": true,
   "sideBar": true,
   "threshold": 4,
   "toc_cell": false,
   "toc_position": {
    "height": "558px",
    "left": "0px",
    "right": "1112.18px",
    "top": "106px",
    "width": "240px"
   },
   "toc_section_display": "block",
   "toc_window_display": true
  }
 },
 "nbformat": 4,
 "nbformat_minor": 2
}
