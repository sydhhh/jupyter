{
 "cells": [
  {
   "cell_type": "markdown",
   "metadata": {
    "heading_collapsed": true
   },
   "source": [
    "# 常用公式"
   ]
  },
  {
   "cell_type": "markdown",
   "metadata": {
    "heading_collapsed": true,
    "hidden": true
   },
   "source": [
    "## 排列--组合：n!--2^n"
   ]
  },
  {
   "cell_type": "markdown",
   "metadata": {
    "hidden": true
   },
   "source": [
    "- Permutation:\n",
    "    - n里面选r个的组合：\n",
    "$$\\boxed{P(n, r) = n(n-1)...(n-r+1) = \\frac{n!}{(n-r)!}}$$\n",
    "    - <span class=\"girk\">全排列：$n!$</span>\n",
    "$$\\boxed{P(n ,n) = n!}$$\n",
    "\n",
    "- Combination:\n",
    "    - n里面选r个的排列：\n",
    "$$\\boxed{C(n, r) = \\frac{P(n, r)}{r!} = \\frac{n!}{(n-r)!r!}}$$\n",
    "$$\\boxed{C(n, r) = C(n, r-n)}$$\n",
    "$$\\boxed{C_{n+1}^r = C_n^{r-1} + C_n^r}$$\n",
    "$$Binomial \\space distribution: \\boxed{Pr(X=k) = C(n, r)p^k(1-p)^{n-k}}$$\n",
    "\n",
    "- 两者联系：\n",
    "    - a Permutation is an ordered Combination.\n",
    "    - $\\boxed{r!}$的含义为r个元素的所有顺序可能，全排列：\n",
    "        - 即$P(r, r) = \\frac{r!}{0!} = r!$\n",
    "        - 另外一种理解思路：第一个元素有$r$种可能，后面依次减少$1$，相乘之后还是$r!$"
   ]
  },
  {
   "cell_type": "markdown",
   "metadata": {
    "hidden": true
   },
   "source": [
    "- <span class=\"girk\">所有排列个数：$2^n$</span>\n",
    "    - 例如所有子集个数\n",
    "$$\\boxed{C_n^0 + C_n^{n-1} + ... + C_n^n = 2^n}$$\n",
    "$$\\boxed{(x+y)^n = \\sum_{k=0}^{n} C_n^kx^ky^{n-k}} => (1+1)^n = \\boxed{2^n = \\sum_{k=0}^{n}C_n^k}$$\n",
    "    - 杨辉三角形：\n",
    "\n",
    "<img src = '.\\pics\\tri.png', width = 600>"
   ]
  },
  {
   "cell_type": "markdown",
   "metadata": {
    "heading_collapsed": true,
    "hidden": true
   },
   "source": [
    "## 等差/比数列"
   ]
  },
  {
   "cell_type": "markdown",
   "metadata": {
    "hidden": true
   },
   "source": [
    "- 等差数列求和：\n",
    "$$S_n = \\frac{(a_1+a_n)n}{2}$$\n",
    "$$\\boxed{1+2+3...+n = \\frac{(n+1)\\cdot n}{2}}$$\n",
    "- 等比数列求和\n",
    "$$S_n = \\frac{a_q(1-q^n)}{1-q}$$\n",
    "$$\\boxed{1+2+4+...2^{n-1} = 2^n -1 }$$"
   ]
  },
  {
   "cell_type": "markdown",
   "metadata": {
    "heading_collapsed": true
   },
   "source": [
    "# 时间复杂度"
   ]
  },
  {
   "cell_type": "markdown",
   "metadata": {
    "hidden": true
   },
   "source": [
    "- $n$问题:\n",
    "    - $O(1)$ 极少\n",
    "    - <font color='red'>$O(logn)$ 几乎都是二分法(注意log(n)与底数无关)</font>\n",
    "        - $O(1)$的时间把规模为n的问题变为n/2: $T(n) = T(n/2) + O(1)$ \n",
    "            - 迭代化简出来就是$O(1)\\cdot logn = \\boxed{O(logn)}$\n",
    "        - $O(n)$的时间，变为n/2：$T(n) = T(n/2) + O(n)$\n",
    "            - $O(n)+O(n/2)+...O(1)=O(2n)=\\boxed{O(n)}$\n",
    "        - $O(1)$的时间，变为俩n/2: $T(n) = 2T(n/2) + O(1)$\n",
    "            - $T(n) = 2T(n/2)+O(1) = O(n) + O(n/2) + ... + O(1) = O(2n) = \\boxed{O(n)}$\n",
    "        - $O(n)$的时间，变为俩n/2: $T(n) = 2T(n/2) + O(n)$\n",
    "            - $T(n) = 2T(n/2) + O(n) = 2(2T(n/4)+O(n/2)) + O(n) = 4T(n/4) + 2O(n) = logn\\cdot O(n) = \\boxed{O(nlogn)}$\n",
    "    - $O(\\sqrt{n})$ 几乎是分解质因数，极少\n",
    "    - $O(n)$ 高频\n",
    "        - <font color='red'>如果发现暴力求解就是$O(n)$，要优化只能是二分法的$O(logn)$了</font>\n",
    "    - $O(nlogn)$ 一般都可能要排序 \n",
    "    - $O(n^2)$ 数组，枚举，动态规划 \n",
    "    - $O(n^3)$ 数组，枚举，动态规划 \n",
    "\n",
    "\n",
    "\n",
    "- <font color='blue'>`np`问题，只可能用搜索来做，n的取值范围非常小：</font>\n",
    "    - $O(2^n)$ 与组合有关的搜索\n",
    "    - $O(n!)$ 与排列有关的搜索"
   ]
  },
  {
   "cell_type": "markdown",
   "metadata": {},
   "source": [
    "# Binary Search"
   ]
  },
  {
   "cell_type": "code",
   "execution_count": null,
   "metadata": {
    "collapsed": true
   },
   "outputs": [],
   "source": []
  },
  {
   "cell_type": "markdown",
   "metadata": {
    "heading_collapsed": true
   },
   "source": [
    "# BFS"
   ]
  },
  {
   "cell_type": "markdown",
   "metadata": {
    "hidden": true
   },
   "source": [
    "## on Trees"
   ]
  },
  {
   "cell_type": "markdown",
   "metadata": {
    "hidden": true
   },
   "source": [
    "## on Graphs"
   ]
  },
  {
   "cell_type": "markdown",
   "metadata": {
    "heading_collapsed": true
   },
   "source": [
    "# DFS"
   ]
  },
  {
   "cell_type": "markdown",
   "metadata": {
    "hidden": true
   },
   "source": [
    "## on Trees"
   ]
  },
  {
   "cell_type": "markdown",
   "metadata": {
    "hidden": true
   },
   "source": [
    "## on Graphs"
   ]
  },
  {
   "cell_type": "markdown",
   "metadata": {
    "heading_collapsed": true
   },
   "source": [
    "# Linked List & Arrays"
   ]
  },
  {
   "cell_type": "markdown",
   "metadata": {
    "hidden": true
   },
   "source": [
    "## 2 pointers"
   ]
  },
  {
   "cell_type": "markdown",
   "metadata": {
    "heading_collapsed": true
   },
   "source": [
    "# 排序"
   ]
  },
  {
   "cell_type": "markdown",
   "metadata": {
    "collapsed": true,
    "hidden": true
   },
   "source": [
    "## Quick"
   ]
  },
  {
   "cell_type": "markdown",
   "metadata": {
    "hidden": true
   },
   "source": [
    "### Quick Selection"
   ]
  },
  {
   "cell_type": "markdown",
   "metadata": {
    "hidden": true
   },
   "source": [
    "## Merge"
   ]
  },
  {
   "cell_type": "markdown",
   "metadata": {
    "hidden": true
   },
   "source": [
    "## Heap"
   ]
  },
  {
   "cell_type": "markdown",
   "metadata": {
    "heading_collapsed": true
   },
   "source": [
    "# Hash & Heap"
   ]
  },
  {
   "cell_type": "markdown",
   "metadata": {
    "heading_collapsed": true
   },
   "source": [
    "# Dynamic Programming"
   ]
  }
 ],
 "metadata": {
  "kernelspec": {
   "display_name": "Python [default]",
   "language": "python",
   "name": "python2"
  },
  "language_info": {
   "codemirror_mode": {
    "name": "ipython",
    "version": 2
   },
   "file_extension": ".py",
   "mimetype": "text/x-python",
   "name": "python",
   "nbconvert_exporter": "python",
   "pygments_lexer": "ipython2",
   "version": "2.7.13"
  },
  "toc": {
   "colors": {
    "hover_highlight": "#DAA520",
    "running_highlight": "#FF0000",
    "selected_highlight": "#FFD700"
   },
   "moveMenuLeft": true,
   "nav_menu": {
    "height": "11px",
    "width": "251px"
   },
   "navigate_menu": true,
   "number_sections": true,
   "sideBar": true,
   "threshold": 4,
   "toc_cell": false,
   "toc_position": {
    "height": "580px",
    "left": "0px",
    "right": "1117.31px",
    "top": "106px",
    "width": "235px"
   },
   "toc_section_display": "block",
   "toc_window_display": true,
   "widenNotebook": false
  }
 },
 "nbformat": 4,
 "nbformat_minor": 2
}
