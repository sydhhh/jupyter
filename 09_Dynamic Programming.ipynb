{
 "cells": [
  {
   "cell_type": "markdown",
   "metadata": {},
   "source": [
    "# <font color='red'>Introduction</font>\n",
    "- 动态规划更注重的是思维上的层面，数学好不好，好处是写出来不会特别长\n",
    "\n",
    "\n",
    "- 初始化一个二维的动态规划时\n",
    "    - 就去初始化___第0行___和___第0列___\n",
    "\n",
    "\n",
    "- 动态规划只能记录一种最优方案\n",
    "    - 不能记录所有方案！！！"
   ]
  },
  {
   "cell_type": "markdown",
   "metadata": {},
   "source": [
    "# 通过一道经典题理解动态规划： `Triangle`\n",
    "\n",
    "http://www.jiuzhang.com/solutions/triangle/"
   ]
  },
  {
   "cell_type": "markdown",
   "metadata": {},
   "source": [
    "## 四种解决方法\n",
    "### DFS: Traverse\n",
    "- 时间复杂度: $O(2^n)$ \n",
    "    - 以前二叉树的时候说$O(n)$，但这里n是行数不是点的个数，所以换算一下就是$1+2+4+...2^{n-1}\\approx \n",
    "O(2^n)$\n",
    "<img src = './pics/dp1.jpg', width = 450>"
   ]
  },
  {
   "cell_type": "markdown",
   "metadata": {},
   "source": [
    "### DFS: Divide Conquer\n",
    "- 有点倒过来，return的值是当前位置到bottom的和\n",
    "    - 而上面是记录开始到当前位置的和\n",
    "- 时间复杂度: 还是$O(2^n)$\n",
    "    - $2^n$的具体含义相当于走了所有的路径\n",
    "    - 很显然这样的穷举不太好，有些情况应该不需要走下去了！\n",
    "        - 要有取舍\n",
    "        \n",
    "        \n",
    "        \n",
    "<img src = './pics/dp2.jpg', width = 400>"
   ]
  },
  {
   "cell_type": "markdown",
   "metadata": {},
   "source": [
    "### Divide Conquer + Memorization\n",
    "- 上面那种情况做了很多重复的操作（DFS就是找所有的可能$O(n^2)$），因此我们可以记住中间结果来减少计算时间。\n",
    "    - 即从某个中间点走到最后的最小sum是固定的，不需要每次都算一次\n",
    "    - 斐波那契数列那个例子也一样，计算小的数的阶乘结果后面应该可以重复使用\n",
    "- 时间复杂度: $O(n^2)$\n",
    "    - 多项式的复杂度：P问题\n",
    "        - 上面那个就是NP问题：$O(2^n),O(n!),O(n^n)...$\n",
    "    - 相当于把这个新建的hash二维数组填满，所以是$O(n^2)$\n",
    "        - 说是说hash，key应该是(x,y)，但是简单一点就写个二维数组好了\n",
    "    \n",
    "    \n",
    "<img src = './pics/dp3.jpg', width = 600>"
   ]
  },
  {
   "cell_type": "markdown",
   "metadata": {},
   "source": [
    "### Traditional Dynamic Programming\n",
    "- 见2.4"
   ]
  },
  {
   "cell_type": "markdown",
   "metadata": {},
   "source": [
    "## <font color='red'>动态规划的本质：记忆化搜索，避免重复的中间结果计算</font>\n",
    "- 动态规划为什么快？\n",
    "    - <span class=\"girk\">避免重复状态的搜索</span>\n",
    "- 动态规划和分治的区别？\n",
    "    - <span class=\"girk\">有没有重复子问题！</span>（我记得以前讲分治法那个note也提到过这个，子问题有相交的部分用动态规划更快）\n",
    "    - 分治是递归实现，而动态规划可以用递归，也可以不用，即多重循环，见下一节\n"
   ]
  },
  {
   "cell_type": "markdown",
   "metadata": {},
   "source": [
    "## 动态规划两种方法：多重循环 vs 记忆化搜索（递归）\n",
    "- 多重循环\n",
    "    - 优点：正规，大多数面试官可以接受，存在空间优化的可能性； \n",
    "    - 缺点：思考有难度\n",
    "- 记忆化搜索：（如果写习惯递归了可以直接改几行就实现了）\n",
    "    - 优点：容易从搜索算法直接转换过来，有的时候可以节省更多的时间。\n",
    "    - 缺点：递归\n",
    "    \n",
    "- <font color='red'>__推荐多重循环__</font>\n",
    "    - 又分为自底向上和自顶向下\n",
    "    \n",
    "    - 推荐__自顶向下__"
   ]
  },
  {
   "cell_type": "markdown",
   "metadata": {},
   "source": [
    "## Traditional Dynamic Programming"
   ]
  },
  {
   "cell_type": "markdown",
   "metadata": {},
   "source": [
    "### 多重循环：自底向上\n",
    "- 从x,y出发到最后一层的sum （像分治法的思维方式）\n",
    "    - <font color='red'>终点先有值</font>\n",
    "    - 时间复杂度：$O(n^2)$\n",
    "    - 空间复杂度：$O(n^2)$\n",
    "\n",
    "<img src='./pics/dp4.jpg', width = 600>"
   ]
  },
  {
   "cell_type": "markdown",
   "metadata": {},
   "source": [
    "### 多重循环：自顶向下\n",
    "- 从起点出发到x,y的sum\n",
    "    - <font color='red'>起点先有值（这种方法感觉比较正统）</font>\n",
    "    - 时间复杂度：$O(n^2)$\n",
    "    - 空间复杂度：$O(n^2)$\n",
    "\n",
    "<img src='./pics/dp5.jpg', width = 600>"
   ]
  },
  {
   "cell_type": "markdown",
   "metadata": {},
   "source": [
    "### 自底向上 vs. 自顶向下\n",
    "- 两种方式没有太大的优劣区别\n",
    "- 思维模式一个正向，一个逆向\n",
    "    - 为了方便教学，后面统一采用__自顶向下__的方式\n",
    "    - 但是对于个人而言，可以选择自己喜欢的，上面这个例子里面自底向上写出来更简单\n",
    "    - <font color='blue'>学习的时候两种方式都可以思考</font>"
   ]
  },
  {
   "cell_type": "markdown",
   "metadata": {},
   "source": [
    "### `Triangle`答案"
   ]
  },
  {
   "cell_type": "code",
   "execution_count": 2,
   "metadata": {
    "code_folding": [
     0
    ],
    "collapsed": true
   },
   "outputs": [],
   "source": [
    "def minimumTotal(triangle):\n",
    "    A = triangle\n",
    "    length = len(A)\n",
    "    f = [[None for i in xrange(length)] for j in xrange(length)]\n",
    "\n",
    "    # initialize：把能确定的值都填上\n",
    "    f[0][0] = A[0][0]\n",
    "    for i in xrange(1, length):\n",
    "        f[i][0] = f[i-1][0] + A[i][0]\n",
    "        f[i][i] = f[i-1][i-1] + A[i][i]\n",
    "\n",
    "    #  top down：一步一步填满别的值\n",
    "    for i in xrange(1, length):\n",
    "        for j in xrange(1, i):\n",
    "            f[i][j] = min(f[i-1][j], f[i-1][j-1]) + A[i][j]\n",
    "\n",
    "    # answer：最后一行的最小值就是要找的答案\n",
    "    return min([f[-1][i] for i in xrange(length)])"
   ]
  },
  {
   "cell_type": "markdown",
   "metadata": {},
   "source": [
    "# <font color='red'>什么时候使用动态规划</font>"
   ]
  },
  {
   "cell_type": "markdown",
   "metadata": {},
   "source": [
    "## 适用的三个条件\n",
    "- 满足这三个条件之一，则<font color='red'>__极有可能__</font>采用动态规划\n",
    "    - 求最大值最小值\n",
    "        - BFS只能找简单图的最短路径，最长就不行了\n",
    "    - 判断是否可行\n",
    "    - 统计方案个数"
   ]
  },
  {
   "cell_type": "markdown",
   "metadata": {},
   "source": [
    "## 不适用的三个条件\n",
    "- 满足这三个条件之一，则<font color='red'>__极不可能__</font>采用动态规划\n",
    "    - 求出所有 <font color='purple'>__具体__</font> 的方案而不是方案的 <font color='purple'>__个数__</font>\n",
    "        - 所有方案往往需要DFS\n",
    "        - http://www.lintcode.com/problem/palindrome-partitioning/\n",
    "    - 输入的数据是一个<font color='purple'>__ 集合 __</font>而不是<font color='purple'>__ 序列 __</font>\n",
    "        - 就是说输入的数据不分先后\n",
    "        - http://www.lintcode.com/problem/longest-consecutive-sequence/\n",
    "        - 但是__背包型动态规划__处理的就是集合(特例)\n",
    "    - <font color='purple'>__ 暴力 __</font>算法的复杂度已经是<font color='purple'>__ 多项式 __</font>级别\n",
    "        - 动态规划擅长优化：指数级别复杂度$(2^n,n!)$到多项式级别复杂度$(n^2,n^3)$\n",
    "        - 不擅长优化$n^3$到$n^2$\n",
    "\n",
    "\n",
    "\n",
    "- <font color='grey'><span class=\"girk\">其实还有个隐含的条件，有循环依赖也不能用动态规划（比如说绕圈）</span></font>\n",
    "    - 比如`Knight Shortest Path`: 它会回头跑，所以只能BFS\n",
    "    - 而`Knight Shortest Path II`: 不会回头，所以可以用动态规划\n",
    "    - 坐标的题如果可以上下左右跑，一般都不能用动态规划（会来回跑），但也有的题可以用，即有另外一个限制防止回头"
   ]
  },
  {
   "cell_type": "markdown",
   "metadata": {},
   "source": [
    "# <font color='red'>动规四要素</font>\n",
    "- 1.__状态 State__\n",
    "    - 存储小规模问题的结果\n",
    "    - <font color='purple'>__最难想，需要灵感和创造力__</font>\n",
    "    - 对于坐标类（包括接龙类），很好想，每个状态就是问的问题\n",
    "        - 即从起点到当前坐标的XXX\n",
    "- 2.__方程 Function__\n",
    "    - 状态之间的联系，怎么通过小的状态，来算大的状态\n",
    "- 3.__初始化 Initialization__\n",
    "    - 最极限的小状态是什么，起点\n",
    "- 4.__答案 Answer__\n",
    "    - <span class=\"girk\">最大的那个状态</span>是什么，终点"
   ]
  },
  {
   "cell_type": "markdown",
   "metadata": {},
   "source": [
    "## vs. 递归三要素 （很相似）\n",
    "- 1.定义（状态）\n",
    "    - 接受什么参数\n",
    "    - 做了什么事\n",
    "    - 返回什么值\n",
    "- 2.拆解（方程）\n",
    "    - 如何将参数变小\n",
    "- 3.出口（初始化）\n",
    "    - 什么时候可以return\n",
    "    \n",
    "\n",
    "- <font color='red'>__写出来的顺序是132，思维顺序是123__</font>"
   ]
  },
  {
   "cell_type": "markdown",
   "metadata": {},
   "source": [
    "# 面试中常见的动态规划分类\n",
    "- ___坐标型动态规划___ 10% \n",
    "    - 每个状态就是一个坐标\n",
    "    - 要做的就是填满一个二维矩阵$f[x][y]$\n",
    "- ___接龙型动态规划___ 20% \n",
    "    - 没听清楚，到时候补完\n",
    "- 划分型动态规划 20% （算法强化班）\n",
    "- 匹配型动态规划 20% （算法强化班）\n",
    "- 背包型动态规划 20% （算法强化班）\n",
    "- 区间型动态规划 10% *"
   ]
  },
  {
   "cell_type": "markdown",
   "metadata": {},
   "source": [
    "## 坐标（矩阵）动态规划：没有什么花样很简单\n",
    "- state:\n",
    "    - $f[x]$表示我从起点走到坐标x...\n",
    "    - $f[x][y]$表示我从起点走到坐标x,y...\n",
    "- function:\n",
    "    - 研究走到x,y这个点__之前的一步__\n",
    "    - Initialize：起点\n",
    "    - Answer：终点"
   ]
  },
  {
   "cell_type": "markdown",
   "metadata": {},
   "source": [
    "### `Minimum Path Sum` （最典型，简单）\n",
    "http://www.jiuzhang.com/solutions/minimum-path-sum/\n",
    "\n",
    "> 典型例题，<span class=\"girk\">没有循环依赖不回头</span>， 初始化的就是第0行和第0列。\n",
    "\n",
    "- state: $f[x][y]$从起点走到x,y的最短路径\n",
    "- function: $\\boxed{f[x][y] = min(f[x-1][y], f[x][y-1]) + A[x][y])}$\n",
    "- intialize: \n",
    "    - $f[i][0] = sum(0,0\\space to \\space i,0)$ \n",
    "    - $f[0][i] = sum(0,0 \\space to \\space  0,i)$\n",
    "- answer: $f[n-1][m-1]$"
   ]
  },
  {
   "cell_type": "markdown",
   "metadata": {},
   "source": [
    "### `Unique Path`\n",
    "http://www.jiuzhang.com/solutions/unique-paths/\n",
    "\n",
    "> 第一眼可能感觉和上题很不一样，但如果你想清楚state到底代表什么就很简单了\n",
    "\n",
    "> 这题好像就是杨辉三角形\n",
    "\n",
    "- state: $f[x][y]$研究从起点到x,y的路径数\n",
    "- function: (研究倒数第一步) $\\boxed{f[x][y] = f[x - 1][y] + f[x][y - 1]}$\n",
    "- initialize: \n",
    "    - $f[0][i] = 1$\n",
    "    - $f[i][0] = 1$\n",
    "- answer: $f[n-1][m-1]$"
   ]
  },
  {
   "cell_type": "markdown",
   "metadata": {},
   "source": [
    "### `Unique Path II`\n",
    "> 在上一题中添加了障碍\n",
    "\n",
    "- 初始化的时候碰到障碍就break\n",
    "- 中间的时候当前点不是障碍才计算"
   ]
  },
  {
   "cell_type": "code",
   "execution_count": 3,
   "metadata": {
    "code_folding": [
     0
    ],
    "collapsed": true
   },
   "outputs": [],
   "source": [
    "def uniquePathsWithObstacles(self, obstacleGrid):\n",
    "    A = obstacleGrid\n",
    "    m = len(A)\n",
    "    n = len(A[0])\n",
    "\n",
    "    f = [[0 for i in xrange(n)] for j in xrange(m)]\n",
    "\n",
    "    for i in xrange(m):\n",
    "        if A[i][0] is not 1:\n",
    "            f[i][0] = 1\n",
    "        else:\n",
    "            break\n",
    "\n",
    "    for j in xrange(n):\n",
    "        if A[0][j] is not 1:\n",
    "            f[0][j] = 1\n",
    "        else:\n",
    "            break\n",
    "\n",
    "    for i in xrange(1, m):\n",
    "        for j in xrange(1, n):\n",
    "            if A[i][j] is not 1:\n",
    "                f[i][j] = f[i-1][j]+f[i][j-1]\n",
    "\n",
    "    return f[i][j]"
   ]
  },
  {
   "cell_type": "markdown",
   "metadata": {},
   "source": [
    "### `Climbing Stairs`\n",
    "http://www.jiuzhang.com/solutions/climbing-stairs/\n",
    "> 第一次看也觉得不像动规，其实也是很经典的一个动态规划题\n",
    "\n",
    "> 斐波那契数列\n",
    "\n",
    "> 一维坐标也是坐标题呀，不都是二维的坐标\n",
    "\n",
    "- state: $f[i]$表示跳到第$i$个位置的方案总数\n",
    "- function: $\\boxed{f[i] = f[i-1] + f[i-2]}$\n",
    "    - 这句话的意思是说，当前层的方案总数等于它上一层和上上层方案之和\n",
    "    - 感觉还得加1，因为上上层应该有两种方式上去\n",
    "        - 其实不对，如果连走两次上去的话，会经过中间那层，这样的话步数计算就重复了\n",
    "- initialize: $f[0] = 1$\n",
    "- answer: $f[n]$ \n",
    "    - index from $0\\space to\\space n$"
   ]
  },
  {
   "cell_type": "markdown",
   "metadata": {},
   "source": [
    "## 接龙型动态规划\n",
    "- 严格上来说也属于\"坐标型\"动态规划的一种\n",
    "    - 但是不太看得出来是一个坐标型，很隐晦\n",
    "    - 和坐标型的区别在于起点终点都不固定\n",
    "        - 这个时候其实只要个for循环遍历一下所有可能，取一下max/min即可"
   ]
  },
  {
   "cell_type": "markdown",
   "metadata": {},
   "source": [
    "### <font color='red'>Longest Increasing Subsequence</font>\n",
    "http://www.jiuzhang.com/solutions/longest-increasing-subsequence/\n",
    "\n",
    "\n",
    "- 将n个数看成n个木桩，目的是从某个木桩出发，从前向后，从低往高，看最多能踩多少个木桩\n",
    "- state: $f[i]$ 表示从（前面<span class=\"girk\">任意</span>某个木桩）跳到第$i$个木桩（包括自己），最多踩过多少个木桩\n",
    "- function: $\\boxed{f[i] = max\\{f[j] + 1\\}}$,  \n",
    "    - $j$必须满足 $j < i && nums[j] < nums[i]$\n",
    "- initialize: $f[0..n-1] = 1$\n",
    "- answer: $max\\{f[0..n-1]\\}$"
   ]
  },
  {
   "cell_type": "code",
   "execution_count": 2,
   "metadata": {
    "code_folding": [
     1
    ],
    "collapsed": true
   },
   "outputs": [],
   "source": [
    "# 可以看出来，写出来的程序非常短！\n",
    "def longestIncreasingSubsequence(nums):\n",
    "    length = len(nums)\n",
    "    f = [1] * length\n",
    "\n",
    "    for i in xrange(1, length):\n",
    "        for j in xrange(i):\n",
    "            if nums[j] < nums[i]:\n",
    "                f[i] = max(f[i], f[j] + 1)\n",
    "\n",
    "    return max(f) #以前都是返回f[-1]，显然不对，因为终点不固定"
   ]
  },
  {
   "cell_type": "markdown",
   "metadata": {},
   "source": [
    "### `Perfect Squares`\n",
    "http://www.jiuzhang.com/solutions/perfect-squares/\n",
    "\n",
    "> Given a positive integer n, find the least number of perfect square numbers (for example, 1, 4, 9, 16, ...) which sum to n.\n",
    "\n",
    "> Given n = 13, return 2 because 13 = 4 + 9\n",
    "\n",
    "> 其实这题不是典型的接龙题（不过也是经典的动规）\n",
    "\n",
    "> 尽管这题用动规做超时（其实有数学上的性质），但这个思想要会。\n",
    "\n",
    "- 状态`dp[n]`表示`n`需要的长度，所以一开始`dp`的长度为`n+1`\n",
    "- 初始化：\n",
    "    - `n`如果是平方数，那么`dp[n]=1`"
   ]
  },
  {
   "cell_type": "code",
   "execution_count": 7,
   "metadata": {
    "code_folding": [
     1
    ],
    "collapsed": true
   },
   "outputs": [],
   "source": [
    "# 然后每个dp[i]等于比min(dp[i-1*1], dp[i-2*2],...) + 1\n",
    "def theLoop():\n",
    "    for i in xrange(n + 1):\n",
    "        for j in xrange(i):\n",
    "            if j * j > i: break\n",
    "            dp[i] = min(dp[i], dp[i - j * j] + 1)"
   ]
  },
  {
   "cell_type": "markdown",
   "metadata": {},
   "source": [
    "### `Largest Divisible Subset`\n",
    "http://www.jiuzhang.com/solutions/largest-divisible-subset/\n",
    "\n",
    "> 子集里面两两这间可以整除\n",
    "\n",
    "- 这题和5.2.1很像\n",
    "    - 唯一的不同在于，<span class=\"girk\">这题我们需要记录这个最优的结果（前面的题都没有记录）</span>\n",
    "\n",
    "- 其实你需要注意到一个点，如果把这个子集排序，那么只要相邻元素可以整除，那么整个集合就是两两整除啦！\n",
    "- 所以还是接龙\n",
    "    - $f[i]$表示以第$i$个数结尾的龙有多长。\n",
    "    - 初始化每个数为1\n",
    "    - $f[i] = max(f[j]+1)$\n",
    "        - 满足$f[i]%f[j]==0 and j < i$\n",
    "    - 答案就是$max(f)$"
   ]
  },
  {
   "cell_type": "code",
   "execution_count": 8,
   "metadata": {
    "collapsed": true
   },
   "outputs": [],
   "source": [
    "def largestDivisibleSubset(nums):\n",
    "    length = len(nums)\n",
    "    nums = sorted(nums)\n",
    "    dp = [1] * length\n",
    "    father = [-1] * length\n",
    "    maxValue, maxIndex = -1, -1 #记录结果\n",
    "\n",
    "    for i in xrange(1, length):\n",
    "        for j in xrange(i):\n",
    "            if nums[i]%nums[j] == 0:\n",
    "                if dp[j] + 1 > dp[i]:\n",
    "                    dp[i] = dp[j] + 1\n",
    "                    father[i] = j #一定要有一个father来记录前一个是谁\n",
    "\n",
    "        if dp[i] > maxValue: #每次这个时候算完一个dp[i]的值，判断一下是不是最大的，然后记录最后的index\n",
    "            maxValue = dp[i]\n",
    "            maxIndex = i\n",
    "\n",
    "    result = []\n",
    "    for i in xrange(maxValue):\n",
    "        result.append(nums[maxIndex])\n",
    "        maxIndex = father[maxIndex] #不停地找前一个点是谁\n",
    "    return result"
   ]
  },
  {
   "cell_type": "markdown",
   "metadata": {},
   "source": [
    "- <span class=\"girk\">这题也进一步说明了，动态规划只能记录一个最优方法，不能记录所有方法</span>"
   ]
  }
 ],
 "metadata": {
  "kernelspec": {
   "display_name": "Python [default]",
   "language": "python",
   "name": "python2"
  },
  "language_info": {
   "codemirror_mode": {
    "name": "ipython",
    "version": 2
   },
   "file_extension": ".py",
   "mimetype": "text/x-python",
   "name": "python",
   "nbconvert_exporter": "python",
   "pygments_lexer": "ipython2",
   "version": "2.7.13"
  },
  "toc": {
   "colors": {
    "hover_highlight": "#DAA520",
    "running_highlight": "#FF0000",
    "selected_highlight": "#FFD700"
   },
   "moveMenuLeft": true,
   "nav_menu": {
    "height": "511px",
    "width": "251px"
   },
   "navigate_menu": true,
   "number_sections": true,
   "sideBar": true,
   "threshold": 4,
   "toc_cell": false,
   "toc_position": {
    "height": "558px",
    "left": "0px",
    "right": "973.572px",
    "top": "106px",
    "width": "379px"
   },
   "toc_section_display": "block",
   "toc_window_display": true,
   "widenNotebook": false
  }
 },
 "nbformat": 4,
 "nbformat_minor": 2
}
