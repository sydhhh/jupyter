{
 "cells": [
  {
   "cell_type": "markdown",
   "metadata": {},
   "source": [
    "# Coding Style\n",
    "- 变量名\n",
    "- 缩进\n",
    "- 括号\n",
    "- 异常检测\n",
    "- 边界处理（要有能力想出所有的test case）"
   ]
  },
  {
   "cell_type": "markdown",
   "metadata": {},
   "source": [
    "# 怎么测试（以入门题 strStr为例）\n",
    "http://www.lintcode.com/en/problem/strstr/\n",
    "\n",
    "> For a given source string and a target string, you should output the first index(from 0) of target string in source string.\n",
    "\n",
    "> If target does not exist in source, just return -1."
   ]
  },
  {
   "cell_type": "markdown",
   "metadata": {},
   "source": [
    "## Java\n",
    "- 这个Class就是可以直接提交到lintcode上的，复制到Intellij IDEA中。\n",
    "```java\n",
    "class Solution {\n",
    "    /**\n",
    "     * Returns a index to the first occurrence of target in source,\n",
    "     * or -1  if target is not part of source.\n",
    "     * @param source string to be scanned.\n",
    "     * @param target string containing the sequence of characters to match.\n",
    "     */\n",
    "    public int strStr(String source, String target) {\n",
    "        if (source == null || target == null){\n",
    "            return -1;\n",
    "        }\n",
    "        for (int i = 0; i < source.length() - target.length() + 1; i++){\n",
    "            int j = 0;\n",
    "            for (j = 0; j < target.length(); j++){\n",
    "                if(source.charAt(i + j) != target.charAt(j)) {\n",
    "                    break;\n",
    "                }\n",
    "            }\n",
    "\n",
    "            if(j == target.length()){\n",
    "                return i;\n",
    "            }\n",
    "        }\n",
    "        return -1;\n",
    "    }\n",
    "}\n",
    "```\n",
    "- 再写一个用于测试的Main class就可以了。\n",
    "```java\n",
    "public class Main {\n",
    "    public static void main(String[] args) {\n",
    "        Solution solution = new Solution();\n",
    "\n",
    "        //test my code here\n",
    "        System.out.println(solution.strStr(\"abcdabcdefg\", \"bcd\"));\n",
    "\n",
    "    }\n",
    "}\n",
    "```"
   ]
  },
  {
   "cell_type": "markdown",
   "metadata": {},
   "source": [
    "## Python\n",
    "- 只要一个文件就够了，非常简洁，前半段是从lintcode上复制下来的\n",
    "- 一般用pyCharm，但是Spyder可以有variable explorer看，debug很好用\n",
    "```python\n",
    "class Solution:\n",
    "    def strStr(self, source, target):\n",
    "        if source is None or target is None:\n",
    "            return -1\n",
    "        return source.find(target)\n",
    "#用于测试\n",
    "solution = Solution() #不是Solution solution = Solution()\n",
    "print solution.strStr(\"abcdabcdefg\", \"bcd\")\n",
    "```"
   ]
  },
  {
   "cell_type": "markdown",
   "metadata": {},
   "source": [
    "# 习题"
   ]
  },
  {
   "cell_type": "markdown",
   "metadata": {},
   "source": [
    "## `Subsets`\n",
    "http://www.lintcode.com/en/problem/subsets/\n",
    "\n",
    "http://www.jiuzhang.com/solutions/subsets/\n",
    "\n",
    "\n",
    "> Given a set of distinct integers, return all possible subsets. \n",
    "\n",
    "> Note: Elements in a subset must be in non-descending order. The solution set must not contain duplicate subsets. For example, If S = [1,2,3], a solution is: [ [3], [1], [2], [1,2,3], [1,3], [2,3], [1,2], [] ]\n",
    "\n",
    "- <font color='red'>题目中要求找出所有解，都是用搜索的思路来解决</font>"
   ]
  },
  {
   "cell_type": "markdown",
   "metadata": {},
   "source": [
    "- 第一种方法是采用BFS，一层一层考虑，来找到所有解：\n",
    "    - 可是可以，但是通常找所有解都是DFS\n",
    "    - 这个方法用python写特别方便\n",
    "<img src='./pics/subset1.jpg', width=500>"
   ]
  },
  {
   "cell_type": "markdown",
   "metadata": {},
   "source": [
    "- 第二种方法当然就是DFS了，它可以节省空间\n",
    "    - BFS要存储上一层状态，而DFS是存储上一个\n",
    "    - 这时候要避免重复：选代表\n",
    "        - 即一个subset要有序，这样就不会有重复了。\n",
    "        \n",
    "<img src='./pics/subset2.jpg', width=500>"
   ]
  },
  {
   "cell_type": "markdown",
   "metadata": {},
   "source": [
    "- 下面递归的DFS写法，我们可以发现经常有一个helper函数：\n",
    "    - 因为递归一般需要很多参数，题目给的函数参数不够多，所以自己可以写一个 private 的 helper。\n",
    "    \n",
    "```java\n",
    "import java.util.ArrayList;\n",
    "import java.util.Arrays;\n",
    "\n",
    "\n",
    "class Solution {\n",
    "    public ArrayList<ArrayList<Integer>> subsets(int[] num) {\n",
    "        // write your code here\n",
    "        ArrayList<ArrayList<Integer>> result = new ArrayList<>(); // 以前要这样写：new ArrayList<ArrayList<Integer>>();\n",
    "        if (num == null || num.length == 0) {\n",
    "            return result;\n",
    "        }\n",
    "        ArrayList<Integer> subset = new ArrayList<>();\n",
    "        Arrays.sort(num);\n",
    "        subsetsHelper(result, subset, num, 0);\n",
    "\n",
    "        return result;\n",
    "    }\n",
    "\n",
    "\n",
    "//递归三要素\n",
    "//1. 递归的定义：接收什么参数，返回什么值，做了什么事\n",
    "    //找到所有以subset开头的子集，然后放到result里面\n",
    "    //所以一开始从[]开头\n",
    "    private void subsetsHelper(ArrayList<ArrayList<Integer>> result,\n",
    "                               ArrayList<Integer> subset, int[] num, int pos) { //num从pos开始有效，防止重复元素\n",
    "\n",
    "//2. 递归的拆解\n",
    "    //总问题很大，递归的目的就是拆成小问题\n",
    "        result.add(new ArrayList<Integer>(subset)); //注意，如果写成result.add(subset) 是soft copy，只是reference放进去，这里要hard copy\n",
    "    \n",
    "        for (int i = pos; i < num.length; i++) {\n",
    "            subset.add(num[i]); //[]->[1] or [1]->[1,2]\n",
    "            //下面的代码表示找到所有以[1,2]开头\n",
    "            subsetsHelper(result, subset, num, i + 1);\n",
    "            //回溯\n",
    "            subset.remove(subset.size() - 1);\n",
    "        }\n",
    "        \n",
    "// 3. 递归的出口（什么时候不往下递归了，找到答案退出）\n",
    "    //这里自然而然这个递归就退出了\n",
    "    }\n",
    "}\n",
    "```"
   ]
  },
  {
   "cell_type": "code",
   "execution_count": 2,
   "metadata": {
    "collapsed": true
   },
   "outputs": [],
   "source": [
    "class Solution:\n",
    "    def subsets(self, nums):\n",
    "        self.result = []\n",
    "        self.dfs(sorted(nums), [], 0)\n",
    "        return self.result\n",
    "        \n",
    "    def dfs(self, nums, subset, index):\n",
    "        self.result.append(subset[:])\n",
    "        \n",
    "        for i in xrange(index, len(nums)):\n",
    "            subset.append(nums[i])\n",
    "            self.dfs(nums, subset, i+1)\n",
    "            subset.pop()\n",
    "        "
   ]
  }
 ],
 "metadata": {
  "kernelspec": {
   "display_name": "Python [default]",
   "language": "python",
   "name": "python2"
  },
  "language_info": {
   "codemirror_mode": {
    "name": "ipython",
    "version": 2
   },
   "file_extension": ".py",
   "mimetype": "text/x-python",
   "name": "python",
   "nbconvert_exporter": "python",
   "pygments_lexer": "ipython2",
   "version": "2.7.13"
  },
  "toc": {
   "colors": {
    "hover_highlight": "#DAA520",
    "running_highlight": "#FF0000",
    "selected_highlight": "#FFD700"
   },
   "moveMenuLeft": true,
   "nav_menu": {
    "height": "122px",
    "width": "251px"
   },
   "navigate_menu": true,
   "number_sections": true,
   "sideBar": true,
   "threshold": 4,
   "toc_cell": false,
   "toc_section_display": "block",
   "toc_window_display": false
  }
 },
 "nbformat": 4,
 "nbformat_minor": 2
}
