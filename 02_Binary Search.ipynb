{
 "cells": [
  {
   "cell_type": "markdown",
   "metadata": {},
   "source": [
    "## <font color='red'>__红色标题就是要记的模板__</font>"
   ]
  },
  {
   "cell_type": "markdown",
   "metadata": {},
   "source": [
    "# 时间复杂度训练（反推该选择哪种算法，面试技巧！）\n",
    "\n",
    "- $O(1)$ 极少\n",
    "- <font color='red'>$O(logn)$ 几乎都是二分法(注意log(n)与底数无关)</font>\n",
    "    - 通过$O(1)$的时间把规模为n的问题变为n/2: $T(n) = T(n/2) + O(1)$ -> 迭代化简出来就是$O(1)*logn = O(logn)$\n",
    "    - 如果上面改为$O(n)$的时间，结果不是想当然的$O(nlogn)$，而是$O(n)+O(n/2)+...O(1)=O(2n)=O(n)$\n",
    "- $O(\\sqrt{n})$ 几乎是分解质因数，极少\n",
    "- $O(n)$ 高频\n",
    "    - <font color='red'>如果发现暴力求解就是$O(n)$，要优化只能是二分法的$O(logn)$了</font>\n",
    "- $O(nlogn)$ 一般都可能要排序 \n",
    "- $O(n^2)$ 数组，枚举，动态规划 \n",
    "- $O(n^3)$ 数组，枚举，动态规划 \n",
    "\n",
    "<font color='blue'>上面都属于n的问题，下面是np问题，只可能用搜索来做，n的取值范围非常小</font>\n",
    "- $O(2^n)$ 与组合有关的搜索\n",
    "- $O(n!)$ 与排列有关的搜索"
   ]
  },
  {
   "cell_type": "markdown",
   "metadata": {},
   "source": [
    "# 二分法基本功"
   ]
  },
  {
   "cell_type": "markdown",
   "metadata": {},
   "source": [
    "## 递归与非递归的权衡\n",
    "- 一般递归都比非递归好写\n",
    "- 二分的递归不会特别深。\n",
    "- 这里的模板就是非递归，二分法的话就用这个好。"
   ]
  },
  {
   "cell_type": "markdown",
   "metadata": {},
   "source": [
    "## 二分的三大痛点\n",
    "- 死循环\n",
    "- 循环结束条件是哪个：\n",
    "    - start <= end\n",
    "    - start < end\n",
    "    - <font color='red'>start + 1 < end</font>\n",
    "- 指针变化是哪个：\n",
    "    - <font color='red'>start = mid</font>\n",
    "    - start = mid + 1\n",
    "    - start = mid - 1\n",
    "    - 懒一点就直接mid，别加一减一搞自己了，时间复杂度没有任何变化"
   ]
  },
  {
   "cell_type": "markdown",
   "metadata": {},
   "source": [
    "## <font color='red'>通用的二分法模板记忆方法（四步）</font>\n",
    "\n",
    "- 不一定最优，但适用性很广，把大区间缩到只剩start & end两个数\n",
    "- `start + 1 < end `\n",
    "    - while里面的条件，即start和end之间至少隔一个元素，相邻就退出循环（<font color='red'>防止死循环</font>）\n",
    "    - __start和end相邻__\n",
    "        - 或者相等，当且仅当数组就一个元素\n",
    "    \n",
    "    \n",
    "- `start + (end - start) / 2` \n",
    "    - 本质就是`(start + end) / 2`，我下面方便起见都写这个，但很可能相加之后overflow，所以写成减法更好！\n",
    "    - 赋值给mid \n",
    "    \n",
    "    \n",
    "- `A[mid] ==, <, > `\n",
    "    - 和target比较\n",
    "    - 就是if, else if and else里面的三种情况\n",
    "        - ==的话就return mid\n",
    "        - <: start = mid\n",
    "        - \\>: end = mid\n",
    "        - 总之三种情况先分开写，具体问题再合并等于那种。（记的时候这样，小于对应start，大于对应end）\n",
    "        \n",
    "        \n",
    "- `A[start] A[end] ? target`\n",
    "    - <font color='red'>__跳出循环后只剩下两个数，[start, end]，别考虑mid了！__ </font>\n",
    "        - 如果第三步没有return mid，那么跳出循环时start + 1 >= end，就是说start和end要么相邻，要么相等（当且仅当数组就一个元素时）\n",
    "        - 所以最后结果只可能是他俩之一或者不存在，一般写成if...elif...else"
   ]
  },
  {
   "cell_type": "markdown",
   "metadata": {},
   "source": [
    "### 代码实现\n",
    "> Binary search is a famous question in algorithm. For a given sorted array (ascending order) and a target number, find the first index of this number in O(log n) time complexity. If the target number does not exist in the array, return -1. Example If the array is [1, 2, 3, 3, 4, 5, 10], for given target 3, return 2.\n",
    "\n",
    "```java\n",
    "public class Solution {\n",
    "    public int findPosition(int[] nums, int target) {\n",
    "        //非空的判断必须要有\n",
    "        if (nums == null || nums.length == 0) {\n",
    "            return -1;\n",
    "        }\n",
    "        \n",
    "        int start = 0, end = nums.length - 1;\n",
    "        while (start + 1 < end) {\n",
    "            int mid = (start + end) / 2;\n",
    "            if (nums[mid] == target) {\n",
    "                return mid;\n",
    "            } else if (nums[mid] < target) {\n",
    "                start = mid;\n",
    "            } else {\n",
    "                end = mid;\n",
    "            }\n",
    "        }\n",
    "        \n",
    "        if (nums[start] == target) {\n",
    "            return start;\n",
    "        }\n",
    "        if (nums[end] == target) {\n",
    "            return end;\n",
    "        }\n",
    "        return -1;\n",
    "    }\n",
    "}\n",
    "```"
   ]
  },
  {
   "cell_type": "markdown",
   "metadata": {},
   "source": [
    "- 翻译为python，感觉把这个记住就可以了\n",
    "```python\n",
    "class Solution:\n",
    "    def binarySearch(self, nums, target):\n",
    "        if len(nums) == 0:\n",
    "            return -1\n",
    "            \n",
    "        start, end = 0, len(nums) - 1\n",
    "        \n",
    "        while start + 1 < end: #第一步\n",
    "            mid = (start + end) / 2 #第二步 \n",
    "            if nums[mid] < target: # 第三步\n",
    "                start = mid\n",
    "            elif nums[mid] == target:\n",
    "                return mid\n",
    "            else:\n",
    "                end = mid\n",
    "                \n",
    "        if nums[start] == target: #第四步, 写成java那样都是if也行\n",
    "            return start\n",
    "        elif nums[end] == target:\n",
    "            return end\n",
    "        else:\n",
    "            return -1\n",
    "```"
   ]
  },
  {
   "cell_type": "markdown",
   "metadata": {},
   "source": [
    "### 三种基本变体：（上面的模板是任意一个位置，不保证第一还是最后）\n",
    "- 找到最后一个位置:\n",
    "    - 差不多，但是如果mid就是target，先不return，让start = mid，再往后看看\n",
    "    - 然后最后return时优先比较A[end]，再看A[start]\n",
    "\n",
    "```python\n",
    "class Solution:\n",
    "    def lastPosition(self, A, target):\n",
    "        if len(A) == 0:\n",
    "            return -1\n",
    "\n",
    "        start, end = 0, len(A) - 1 \n",
    "\n",
    "        while start + 1 < end:\n",
    "            mid = (start + end) / 2\n",
    "\n",
    "            if A[mid] < target:\n",
    "                start = mid\n",
    "            elif A[mid] == target:\n",
    "                start = mid\n",
    "            else:\n",
    "                end = mid\n",
    "    \n",
    "        if A[end] == target:\n",
    "            return end\n",
    "        elif A[start] == target:\n",
    "            return start\n",
    "        else:\n",
    "            return -1\n",
    "            \n",
    "```\n",
    "- 找到第一个位置: \n",
    "    - 思路一样的，都是模板里面改两个地方\n",
    "    - mid等于的话，不return，让end = mid，再往前看看\n",
    "    - 最后比较时先判断A[start]，再A[end]\n",
    "    \n",
    "    \n",
    "    \n",
    "- 找到所有位置：\n",
    "    - 感觉可以找第一，然后在数组里面往后找\n",
    "    "
   ]
  },
  {
   "cell_type": "markdown",
   "metadata": {},
   "source": [
    "#### <font color='red'>变体记忆方法</font>\n",
    "- 第三步if里面mid若满足target条件，先不return：\n",
    "    - 找第一个出现的，那么end = mid，往前看\n",
    "    - 找最后一个出现的，start = mid，往后看\n",
    "- 注意第三步其他两个if情况照旧\n",
    "- 第四步：\n",
    "    - 找第一个出现的，先判断start\n",
    "    - 找最后一个，先判断end"
   ]
  },
  {
   "cell_type": "markdown",
   "metadata": {},
   "source": [
    "# 三种题型"
   ]
  },
  {
   "cell_type": "markdown",
   "metadata": {},
   "source": [
    "## 第一境界：二分位置 之 圈圈叉叉 \n",
    "- Binary Search on Index - OOXX\n",
    "- 一般会给你一个数组\n",
    "    - <font color='red'>让你找数组中第一个/最后一个满足某个条件的位置</font>\n",
    "        - OOOOOOO...OOXX….XXXXXX"
   ]
  },
  {
   "cell_type": "markdown",
   "metadata": {},
   "source": [
    "### `Closest Number in Sorted Array`\n",
    "http://www.lintcode.com/en/problem/closest-number-in-sorted-array/\n",
    "\n",
    "- 很简单，虽然要找的不是一个确切值，但第三步根本不用变，改一下第四步就好了：\n",
    "\n",
    "```python\n",
    "if A[end] - target < target - A[start]:\n",
    "    return end\n",
    "else:\n",
    "    return start\n",
    "            ```"
   ]
  },
  {
   "cell_type": "markdown",
   "metadata": {},
   "source": [
    "### `First Bad Version`\n",
    "http://www.lintcode.com/problem/first-bad-version/\n",
    "\n",
    "http://www.jiuzhang.com/solutions/first-bad-version/\n",
    "\n",
    "- FFFFFFTTTTTTTTTT\n",
    "\n"
   ]
  },
  {
   "cell_type": "markdown",
   "metadata": {},
   "source": [
    "### `Search In Big Sorted Array`\n",
    "http://www.lintcode.com/problem/search-in-a-big-sorted-array/\n",
    "\n",
    "http://www.jiuzhang.com/solutions/search-in-a-big-sorted-array/\n",
    "\n",
    "- 数组太大了，虽然排好序了但是不知道一共多长，要求还是找到target在数组中的第一个位置\n",
    "    - 这时候二分法模板感觉不能用了！\n",
    "    - <font color='red'>其实不然，我们可以找到一个*2的方式找到一个最小的end位置使A[end] >= target，然后就可以用模板了</font>"
   ]
  },
  {
   "cell_type": "markdown",
   "metadata": {},
   "source": [
    "### `Find Minimum in Rotated Sorted Array`\n",
    "http://www.lintcode.com/problem/find-minimum-in-rotated-sorted-array/\n",
    "\n",
    "http://www.jiuzhang.com/solutions/find-minimum-in-rotated-sorted-array/\n",
    "\n",
    "> Suppose a sorted array is rotated at some pivot unknown to you beforehand.\n",
    "\n",
    "> (i.e., 0 1 2 4 5 6 7 might become 4 5 6 7 0 1 2). \n",
    "\n",
    "> Find the minimum element.\n",
    "\n",
    "- 其实翻译过来就是，找到第一个元素，使他<=数组中最后一个元素\n",
    "    - 模板里面我们找的就是一个固定的target\n",
    "    - 这里变动的地方就是找一个不比target大就好了，注意是出现的第一个，所以可以用模板变体\n",
    "    \n",
    "    \n",
    "```python\n",
    "class Solution:\n",
    "    def findMin(self, nums):\n",
    "        if len(nums) == 0:\n",
    "            return -1\n",
    "\n",
    "        start, end = 0, len(nums) - 1\n",
    "        target = nums[-1]\n",
    "\n",
    "        while start + 1 < end:\n",
    "            mid = (start + end) / 2\n",
    "\n",
    "            if nums[mid] < target:\n",
    "                end = mid\n",
    "            elif nums[mid] == target:\n",
    "                end = mid\n",
    "            else:\n",
    "                start = mid\n",
    "        \n",
    "        # 最后一步有点tricky，还是得像模板一样比较一下，不是直接return nums[start]\n",
    "        # 当然如果先比较nums[end]，答案就错了，要的是第一个，所以必须先比较nums[start]\n",
    "        if nums[start] < target:\n",
    "            return nums[start]\n",
    "        else:\n",
    "            return nums[end]\n",
    "        ```"
   ]
  },
  {
   "cell_type": "markdown",
   "metadata": {},
   "source": [
    "### `Search a 2D Matrix`\n",
    "http://www.lintcode.com/en/problem/search-a-2d-matrix/\n",
    "\n",
    "> 即每一行都满足sorted的条件，且下一行第一个数比上一行最后一个数大。要找一个target\n",
    "\n",
    "- 简单，就是拍扁成一维的即可，用一些2D到1D的坐标转换公式即可。"
   ]
  },
  {
   "cell_type": "markdown",
   "metadata": {},
   "source": [
    "### `(Hard) Smallest Rectangle Enclosing Black Pixels `\n",
    "http://www.lintcode.com/problem/smallest-rectangle-enclosing-black-pixels/\n",
    "\n",
    "http://www.jiuzhang.com/solutions/smallest-rectangle-enclosing-black-pixels/\n",
    "\n",
    "> 01矩阵中，1连成一片，输入一个1的位置，找到最小的矩形能覆盖所有的1。\n",
    "\n",
    "- 可以用BFS来找到相邻的1，后面课会讲，在这里就是暴力法，时间复杂度O(m*n)\n",
    "    - 那么比它小的，一般就是O(n), O(logn)或者O(nlogn)\n",
    "    - O(n)的话跨度太大了\n",
    "    - log的话要么二分，要么排序，明显不能排序\n",
    "    \n",
    "    \n",
    "\n",
    "- 左边界就是第一列有1，右边界是最后一列有1 \n",
    "    - 这样做四个二分:\n",
    "    - $O(nlogm + mlogn)$\n",
    "    \n",
    "    \n",
    "- 下课看一看更新过的答案。"
   ]
  },
  {
   "cell_type": "markdown",
   "metadata": {},
   "source": [
    "## 第二境界：二分位置 之 保留一半 \n",
    "- Binary Search on Index - Half half\n",
    "- 并无法找到一个条件，形成 OOXX 的模型\n",
    "    - 但可以根据判断，<font color='red'>保留下有解的那一半或者去掉无解的一半</font>"
   ]
  },
  {
   "cell_type": "markdown",
   "metadata": {},
   "source": [
    "### `Find Peak Element`\n",
    "> 相邻元素不同，找到任意一个元素，它比左右都大\n",
    "\n",
    "> 假设第一个元素和最后一个元素不满足条件，即：\n",
    "    - A[0]<A[1]\n",
    "    - A[-2]>A[-1]\n",
    "> Given [1, 2, 1, 3, 4, 5, 7, 6], Return index 1 (which is number 2) or 6 (which is number 7)\n",
    "\n",
    "- 最简单就是暴力`O(n)`，直接扫一遍，要优化只能用`O(logn)`，就是用二分法：\n",
    "- 很明显，并不满足OOXX模型，但可以用二分法模板套！\n",
    "    - 因为是输出随便一个，所以用基本模板\n",
    "    - 主要改动的地方就是第三步的判断条件：\n",
    "        - 因为一开始数值大小上升，最后数值大小降低，然后找要极值\n",
    "        - 如果 [mid]<[mid+1]，而且最后又是[-2]>[-1]，很明显右半边必有一个极值（左半边有没有不知道）\n",
    "            - [mid-1]>[mid]，左半边必有。\n",
    "        - 只剩下一种情况，[mid-1]<[mid]>[mid+1]，直接return\n",
    "        - （注意这是化简过的，其实一共四种情况，分别对比左边和右边的大小，写完之后再合并）\n",
    "        \n",
    "```python\n",
    "class Solution:\n",
    "    def findPeak(self, A):  \n",
    "        if len(A) == 0:\n",
    "            return -1       \n",
    "        start, end = 1, len(A)-2\n",
    "        \n",
    "        while start + 1 < end:\n",
    "            mid = (start + end)/2        \n",
    "            if A[mid] < A[mid + 1]:\n",
    "                start = mid          \n",
    "            elif A[mid] < A[mid - 1]:\n",
    "                end = mid\n",
    "            else:\n",
    "                return mid\n",
    "                       \n",
    "        if A[start] > A[start + 1]:\n",
    "            return start    \n",
    "        elif A[end] > A[end -1]:\n",
    "            return end      \n",
    "        else:\n",
    "            return -1\n",
    "```            \n"
   ]
  },
  {
   "cell_type": "markdown",
   "metadata": {},
   "source": [
    "### Maximum Number in Mountain Sequence\n",
    "http://www.lintcode.com/problem/maximum-number-in-mountain-sequence/\n",
    "\n",
    "http://www.jiuzhang.com/solutions/maximum-number-in-mountain-sequence/\n",
    "\n",
    "> 先增后减的序列里面找最大值\n",
    "\n",
    "- 是上一题的简化版，关键在于二分后判断target在哪个半边。\n",
    "\n",
    "```python\n",
    "class Solution:\n",
    "    def mountainSequence(self, nums):\n",
    "        start, end = 0, len(nums)-1\n",
    "        while start + 1 < end:\n",
    "            mid = (start+end)/2\n",
    "            if nums[mid]<nums[mid+1]: #如果发现mid之后是递增的，说明maximum在右半边\n",
    "                start = mid\n",
    "            else:\n",
    "                end = mid\n",
    "        \n",
    "        return max(nums[start], nums[end])\n",
    "```"
   ]
  },
  {
   "cell_type": "markdown",
   "metadata": {},
   "source": [
    "### `Search in Rotated Sorted Array`\n",
    "- <font color='red'>__会了这道题，才敢说自己会二分法__</font>\n",
    "\n",
    "http://www.lintcode.com/problem/search-in-rotated-sorted-array/\n",
    "\n",
    "http://www.jiuzhang.com/solutions/search-in-rotated-sorted-array/\n",
    "\n",
    "> For [4, 5, 1, 2, 3] and target=1, return 2.\n",
    "\n",
    "> For [4, 5, 1, 2, 3] and target=0, return -1.\n",
    "\n",
    "- 模板不变，改动的地方就是第三步中的判断条件；因为是任意输出一个，所以第四步中比较start和end时没有先后的区别，而且第三步可以直接return。\n",
    "    - 每次二分之后（包括一开始），都有两种情况：（核心思想在于每次二分后至少一半是sorted的）\n",
    "    <img src = './pics/bs.png' width=200>\n",
    "    \n",
    "```python\n",
    "class Solution:\n",
    "    def search(self, A, target):\n",
    "        if len(A) == 0:\n",
    "            return -1\n",
    "        start, end = 0, len(A)-1\n",
    "        while start + 1 < end:\n",
    "            mid = (start+end)/2\n",
    "            \n",
    "            if A[mid] == target: #巧的话直接return\n",
    "                return mid               \n",
    "            elif A[start] < A[mid]: #情况1\n",
    "                if A[start]<=target and target <=A[mid]: \n",
    "                #即 [s]<=target<=[mid]\n",
    "                #那么target在左半（因为左半是sorted的，好判断，所以写在if里面；不好写的扔给else就好）\n",
    "                    end = mid\n",
    "                else: #不然就在右半\n",
    "                    start = mid                    \n",
    "            else: # 情况2\n",
    "                if A[mid]<=target and target <=A[end]: #target在右半\n",
    "                    start = mid\n",
    "                else: #不然在左半\n",
    "                    end = mid \n",
    "                    \n",
    "        if A[start] == target:\n",
    "            return start\n",
    "        elif A[end] == target:\n",
    "            return end\n",
    "        else:\n",
    "            return -1\n",
    "```    \n",
    "    "
   ]
  },
  {
   "cell_type": "markdown",
   "metadata": {},
   "source": [
    "## 第三境界：二分答案\n",
    "- Binary Search on Result\n",
    "- 往往没有给你一个数组让你二分\n",
    "- 而且题目__压根看不出来是个二分法可以做的题__\n",
    "    - 同样是找到满足某个条件的最大或者最小值"
   ]
  },
  {
   "cell_type": "markdown",
   "metadata": {},
   "source": [
    "### `Sqrt(x)`\n",
    "http://www.lintcode.com/problem/sqrtx/\n",
    "\n",
    "http://www.jiuzhang.com/solutions/sqrtx/\n",
    "\n",
    "- Last number that number^2 <= x"
   ]
  },
  {
   "cell_type": "markdown",
   "metadata": {},
   "source": [
    "### `Wood Cut`\n",
    "http://www.lintcode.com/problem/wood-cut/\n",
    "\n",
    "http://www.jiuzhang.com/solutions/wood-cut/\n",
    "\n",
    "> Given L & k, return the maximum length of the small pieces.\n",
    "\n",
    "- Last/Biggest length that can get >= k pieces\n",
    "\n",
    "- 还是套模板，注意是找最大的那个数字，所以是模板变体，\n",
    "    - 第三步当 pieces>=k 先不return，且start=mid\n",
    "    - 第四步先判断end\n",
    "    \n",
    "```python\n",
    "class Solution:\n",
    "    def woodCut(self, L, k):\n",
    "        n = len(L)\n",
    "        if n == 0:\n",
    "            return 0\n",
    "        if sum(L) < k:\n",
    "            return 0    \n",
    "        start, end = 1, sum(L)/k\n",
    "        \n",
    "        while start+1<end:\n",
    "            mid = (start + end) / 2\n",
    "            pieces = sum(l/mid for l in L)\n",
    "            if pieces >=k:\n",
    "                start = mid\n",
    "            else:\n",
    "                end = mid\n",
    "        \n",
    "        if sum(l/end for l in L) >=k:\n",
    "            return end\n",
    "        else: #不可能找不到，所以直接else\n",
    "            return start\n",
    "            ```"
   ]
  },
  {
   "cell_type": "markdown",
   "metadata": {},
   "source": [
    "### `Copy Books (Hard)`\n",
    "- 用动态规划做更清楚"
   ]
  },
  {
   "cell_type": "markdown",
   "metadata": {},
   "source": [
    "# 课后习题（上完课的下周做）"
   ]
  },
  {
   "cell_type": "markdown",
   "metadata": {
    "collapsed": true
   },
   "source": [
    "三步翻转法？？？"
   ]
  }
 ],
 "metadata": {
  "kernelspec": {
   "display_name": "Python [default]",
   "language": "python",
   "name": "python2"
  },
  "language_info": {
   "codemirror_mode": {
    "name": "ipython",
    "version": 2
   },
   "file_extension": ".py",
   "mimetype": "text/x-python",
   "name": "python",
   "nbconvert_exporter": "python",
   "pygments_lexer": "ipython2",
   "version": "2.7.13"
  },
  "toc": {
   "colors": {
    "hover_highlight": "#DAA520",
    "running_highlight": "#FF0000",
    "selected_highlight": "#FFD700"
   },
   "moveMenuLeft": true,
   "nav_menu": {
    "height": "191px",
    "width": "251px"
   },
   "navigate_menu": true,
   "number_sections": true,
   "sideBar": true,
   "threshold": 4,
   "toc_cell": false,
   "toc_position": {
    "height": "519px",
    "left": "0px",
    "right": "1080.31px",
    "top": "106px",
    "width": "297px"
   },
   "toc_section_display": "block",
   "toc_window_display": true,
   "widenNotebook": false
  }
 },
 "nbformat": 4,
 "nbformat_minor": 2
}
